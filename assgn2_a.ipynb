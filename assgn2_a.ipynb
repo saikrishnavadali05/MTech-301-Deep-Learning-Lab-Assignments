{
 "cells": [
  {
   "cell_type": "markdown",
   "metadata": {},
   "source": [
    "# L1 and L2 regularization\n",
    "You would have seen from the previous two assignments that training accuracy on cat classification was much higher (around 99%) compared to test accuracy (around 70%). Clearly this is a case of low bias high variance or overfitting. In this assignment you will attempt to improve the accuracy of the earlier model using regularization."
   ]
  },
  {
   "cell_type": "markdown",
   "metadata": {},
   "source": [
    "Let's import the required packages. Note that we have moved functions like initialize_params, forward, f, df, predict and test_model into assign2_utils.py."
   ]
  },
  {
   "cell_type": "code",
   "execution_count": 1,
   "metadata": {},
   "outputs": [],
   "source": [
    "import numpy as np\n",
    "import argparse # for command-line parsing\n",
    "import matplotlib # for plotting\n",
    "from matplotlib import pyplot as plt # for plotting\n",
    "from tqdm import tqdm_notebook as tqdm\n",
    "from assign2_utils import load_train_data, load_test_data, flatten, initialize_params, forward\n",
    "from assign2_utils import df, update_params, test_model \n",
    "\n",
    "%matplotlib inline "
   ]
  },
  {
   "cell_type": "markdown",
   "metadata": {},
   "source": [
    "In the last two assignments we had initialized many hyperparameters and variables in the main function that trains the model. We will make a few changes in this assignment. First, we will use argparse module and make  hyperparameters/variables as command line arguments. Second, we will rename main to train. The new main function in this assignment will train the model and then test it on the test set."
   ]
  },
  {
   "cell_type": "markdown",
   "metadata": {},
   "source": [
    "The below code adds some of the hyperparameters and variables as command-line arguments. The help keyword argument of add_argument method gives information about the hyperparameter/variable added as command-line argument."
   ]
  },
  {
   "cell_type": "code",
   "execution_count": 2,
   "metadata": {},
   "outputs": [
    {
     "name": "stdout",
     "output_type": "stream",
     "text": [
      "[32, 1]\n"
     ]
    }
   ],
   "source": [
    "# instantiate the ArgumentParser object; note that argparse had already been imported\n",
    "parser = argparse.ArgumentParser(description='Train a fully connected network with regularization')\n",
    "\n",
    "# add arguments\n",
    "parser.add_argument('--miter', metavar='N', type=int, default=200, help='max number of iterations to train')\n",
    "parser.add_argument('--alpha', metavar='LEARNING_RATE', type=float, default=0.001, help='initial learning rate')\n",
    "parser.add_argument('--epsilon', metavar='EPSILON', type=float, default=1e-6)\n",
    "parser.add_argument('--nl', metavar='N', default=2, type=int, help='number of layers')\n",
    "parser.add_argument('--nx', metavar='LIST', nargs='+', type=int, default=[32, 1], help='num of nodes in each layer')\n",
    "parser.add_argument('--fname_list', metavar='LIST', nargs='+', default=['ReLU', 'Sigmoid'], \n",
    "                    choices=['ReLU', 'Sigmoid', 'Tanh', 'Linear'], help='non-linearity to be applied at each layer')\n",
    "parser.add_argument('--reg_method', metavar='LIST', nargs='+', default=['L2', 'L2'],\n",
    "                    choices=['NoReg', 'L2', 'L1'], help='regularization to be applied at each layer (excluding ip layer)')\n",
    "parser.add_argument('--lamda', metavar='LAMBDA', type=float, default=1., help='regularization parameter')\n",
    "\n",
    "# parse the arguments. \n",
    "# Since we cannot invoke the code written in jupyter directly from command-line, \n",
    "# we can specify the required arguments in the call to parse_args as shown below with other arguments \n",
    "# left out to use their default values.\n",
    "args = parser.parse_args('--miter 8000 --alpha .0065 --lamda 4.5 '.split()) # you may play with this code by changing\n",
    "                                                                        # the arguments as required\n",
    "print(args.nx)"
   ]
  },
  {
   "cell_type": "markdown",
   "metadata": {},
   "source": [
    "You can see from the previous cell that number of layers, number of nodes in each layer, regularization method to be applied at each layer, regularization constant etc. are passed as command-line arguments. When there is regularization at a layer, the derivative of loss with respect to weights at that layer will have an added term because of the regularization. You may look at the lecture notes for clarity on this. Below you will complete the blanks in backward method, train method and main method."
   ]
  },
  {
   "cell_type": "code",
   "execution_count": 3,
   "metadata": {},
   "outputs": [],
   "source": [
    "def backward(da, cache, fname = 'ReLU', reg_method = 'L2'):\n",
    "    \"\"\"\n",
    "      Backward propagates da through the current layer given da, cache and the non-linearity at the current layer\n",
    "      \n",
    "      da: derivative of loss with respect current layers activation a; shape is nx[l] x m\n",
    "      cache: a tuple that contains current layer's linear computation z, previous layer's activation aprev,\n",
    "                     current layer's activation a and weight matrix W between previous layer l-1 and current layer l\n",
    "      fname: name of the non-linearity at current layer l; this will be helpful for local gradient computation in \n",
    "             chain rule\n",
    "      reg_method: regularization method that was applied at this layer\n",
    "      \n",
    "      returns dW: derivative of loss with respect to W; shape is nx[l] x nx[l-1]\n",
    "              db: derivative of loss with respect to b; shape is nx[l] x 1\n",
    "    \"\"\"\n",
    "    m = da.shape[1]\n",
    "    z, aprev, a, W = cache       # extract from cache\n",
    "    \n",
    "    # replace ... with your answer\n",
    "    dz = da * df(z, fname)      # compute dz as incoming grad da * local grad. For local grad, function df defined be useful\n",
    "    dW = np.matmul(dz, aprev.T)  # np.dot or np.amtmul or @ operator will be useful. Also .T will be useful for \n",
    "                                 # transposing\n",
    "        \n",
    "    # add derivative of regularization penalty at this layer w.r.to W to dW\n",
    "    # replace ... with your answer\n",
    "    if reg_method == 'NoReg':     # no regularization\n",
    "        dW += 0  # one line of code\n",
    "    elif reg_method == 'L1':      # L1 regularization\n",
    "        sgn_w = np.sign(W)\n",
    "        sgn_w[sgn_w == 0] = 1\n",
    "        dW += (args.lamda/m) * sgn_w  # few lines (atmost 4) of code; np.sign will be useful\n",
    "    elif reg_method == 'L2':\n",
    "        dW +=  (args.lamda/m) * W          # one line of code; \n",
    "    else:\n",
    "        raise ValueError('Unkown regularization method')\n",
    "        \n",
    "    # replace ... with your answer\n",
    "    db = np.sum(dz, axis = 1, keepdims=True)      # np.sum will be useful\n",
    "    daprev = W.T @ dz            # np.dot or np.amtmul or @ operator will be useful. Also .T will be useful for \n",
    "                                 # transposing\n",
    "    return daprev, dW, db\n",
    "\n",
    "\n",
    "def train(a0, y, Wlist, blist): # main function to train and test the model  \n",
    "    \"\"\"\n",
    "      Given the input and the labels, this function trains the model\n",
    "      \n",
    "      a0: Input which is a numpy array of shape (nx[0], m); m is the number of samples; nx[0] is num of features\n",
    "      y: label which is a numpy array of shape (m, )\n",
    "      Wlist: a list of all weight matrices\n",
    "      blist: a list of bias vectors\n",
    "      \n",
    "      returns None      \n",
    "    \"\"\"\n",
    "    \n",
    "    # set number of training examples to m\n",
    "    m = a0.shape[1]\n",
    "    epsilon = 1e-6\n",
    "   \n",
    "    # initialize list of caches for each layer, gradients of weights at each layer, gradients of biases at\n",
    "    # each layer to empty\n",
    "    cache, dWlist, dblist = ([None]*args.nl for i in range(3))\n",
    "    dw_list = [[0] * args.miter, [0] * args.miter, [0] * args.miter, [0] * args.miter]\n",
    "    \n",
    "    for i in tqdm(range(args.miter)):\n",
    "        a = a0\n",
    "        # forward propagate through each layer\n",
    "        for l in range(args.nl):\n",
    "            # replace ... with your answer\n",
    "            a, cache[l] = forward(a, Wlist[l], blist[l], args.fname_list[l])     # call forward function with appropriate arguments\n",
    "            \n",
    "        # replace ... with your answer\n",
    "        L = (-1/m) * np.sum((y * np.log(a) + (1-y) * np.log(1-a)))  # compute loss\n",
    "                \n",
    "        # Add regularization penalty to loss; replace ... with your answer\n",
    "        for l in range(args.nl):\n",
    "            if args.reg_method[l] == 'NoReg':\n",
    "                L += 0 # one line of code\n",
    "            elif args.reg_method[l] == 'L1':\n",
    "                L += (args.lamda/m) * np.linalg.norm(Wlist[l], ord=1)\n",
    "            elif args.reg_method[l] == 'L2':\n",
    "                L += (args.lamda/(2*m)) * np.power(np.linalg.norm(Wlist[l]),2)  ########  HERE USE FROBINIUS NORM      ######\n",
    "            else:\n",
    "                raise ValueError('Unknown regularization method error')\n",
    "                \n",
    "        # compute da\n",
    "        # replace ... with your answer\n",
    "#         print(\"SAI: \", L.shape)\n",
    "        da = (1/m) * (a-y) * (1/((a * (1-a)) + epsilon)) # not affected by regularization penalty\n",
    "        \n",
    "        # backward propagate through each layer to compute gradients\n",
    "        for l in range(args.nl-1, -1, -1):\n",
    "            # replace ... by your answer \n",
    "            da, dWlist[l], dblist[l] = backward(da, cache[l], args.fname_list[l], args.reg_method[l]) # call backward function with appropriate arguments                                                 \n",
    "            dw_list[l][i] = np.linalg.norm(dWlist[l])\n",
    "        \n",
    "        # update_params\n",
    "        # call update_params function with appropriate arguments\n",
    "        update_params(Wlist, blist, dWlist, dblist, args.alpha) \n",
    "        \n",
    "        if not i%100: # print loss every 100 iterations\n",
    "                print(f'Loss at iteration {i}:\\t{np.asscalar(L):.4f}')\n",
    "#                 for l in range(args.nl):\n",
    "#                     print(\"norm(dW)\",l, \": \", np.linalg.norm(dWlist[l]))\n",
    "    return    "
   ]
  },
  {
   "cell_type": "code",
   "execution_count": 4,
   "metadata": {
    "scrolled": true
   },
   "outputs": [
    {
     "data": {
      "application/vnd.jupyter.widget-view+json": {
       "model_id": "c93d51dbd2114826b469ba463d85668e",
       "version_major": 2,
       "version_minor": 0
      },
      "text/plain": [
       "HBox(children=(IntProgress(value=0, max=8000), HTML(value='')))"
      ]
     },
     "metadata": {},
     "output_type": "display_data"
    },
    {
     "name": "stdout",
     "output_type": "stream",
     "text": [
      "Loss at iteration 0:\t1.1194\n",
      "Loss at iteration 100:\t1.0571\n",
      "Loss at iteration 200:\t1.0317\n",
      "Loss at iteration 300:\t0.9951\n",
      "Loss at iteration 400:\t0.9504\n",
      "Loss at iteration 500:\t0.9000\n",
      "Loss at iteration 600:\t0.8430\n",
      "Loss at iteration 700:\t0.7835\n",
      "Loss at iteration 800:\t0.7257\n",
      "Loss at iteration 900:\t0.6756\n",
      "Loss at iteration 1000:\t0.6445\n",
      "Loss at iteration 1100:\t0.6202\n",
      "Loss at iteration 1200:\t0.5932\n",
      "Loss at iteration 1300:\t0.5414\n",
      "Loss at iteration 1400:\t0.4929\n",
      "Loss at iteration 1500:\t0.4779\n",
      "Loss at iteration 1600:\t0.4394\n",
      "Loss at iteration 1700:\t0.4192\n",
      "Loss at iteration 1800:\t0.4079\n",
      "Loss at iteration 1900:\t0.3878\n",
      "Loss at iteration 2000:\t0.3773\n",
      "Loss at iteration 2100:\t0.3653\n",
      "Loss at iteration 2200:\t0.3551\n",
      "Loss at iteration 2300:\t0.3457\n",
      "Loss at iteration 2400:\t0.3378\n",
      "Loss at iteration 2500:\t0.3300\n",
      "Loss at iteration 2600:\t0.3225\n",
      "Loss at iteration 2700:\t0.3156\n",
      "Loss at iteration 2800:\t0.3089\n",
      "Loss at iteration 2900:\t0.3028\n",
      "Loss at iteration 3000:\t0.2968\n",
      "Loss at iteration 3100:\t0.2912\n",
      "Loss at iteration 3200:\t0.2857\n",
      "Loss at iteration 3300:\t0.2805\n",
      "Loss at iteration 3400:\t0.2755\n",
      "Loss at iteration 3500:\t0.2706\n",
      "Loss at iteration 3600:\t0.2660\n",
      "Loss at iteration 3700:\t0.2615\n",
      "Loss at iteration 3800:\t0.2571\n",
      "Loss at iteration 3900:\t0.2529\n",
      "Loss at iteration 4000:\t0.2488\n",
      "Loss at iteration 4100:\t0.2449\n",
      "Loss at iteration 4200:\t0.2410\n",
      "Loss at iteration 4300:\t0.2373\n",
      "Loss at iteration 4400:\t0.2337\n",
      "Loss at iteration 4500:\t0.2302\n",
      "Loss at iteration 4600:\t0.2268\n",
      "Loss at iteration 4700:\t0.2235\n",
      "Loss at iteration 4800:\t0.2202\n",
      "Loss at iteration 4900:\t0.2172\n",
      "Loss at iteration 5000:\t0.2141\n",
      "Loss at iteration 5100:\t0.2112\n",
      "Loss at iteration 5200:\t0.2083\n",
      "Loss at iteration 5300:\t0.2055\n",
      "Loss at iteration 5400:\t0.2029\n",
      "Loss at iteration 5500:\t0.2002\n",
      "Loss at iteration 5600:\t0.1977\n",
      "Loss at iteration 5700:\t0.1952\n",
      "Loss at iteration 5800:\t0.1928\n",
      "Loss at iteration 5900:\t0.1905\n",
      "Loss at iteration 6000:\t0.1882\n",
      "Loss at iteration 6100:\t0.1860\n",
      "Loss at iteration 6200:\t0.1838\n",
      "Loss at iteration 6300:\t0.1818\n",
      "Loss at iteration 6400:\t0.1797\n",
      "Loss at iteration 6500:\t0.1777\n",
      "Loss at iteration 6600:\t0.1758\n",
      "Loss at iteration 6700:\t0.1739\n",
      "Loss at iteration 6800:\t0.1721\n",
      "Loss at iteration 6900:\t0.1704\n",
      "Loss at iteration 7000:\t0.1687\n",
      "Loss at iteration 7100:\t0.1670\n",
      "Loss at iteration 7200:\t0.1654\n",
      "Loss at iteration 7300:\t0.1638\n",
      "Loss at iteration 7400:\t0.1623\n",
      "Loss at iteration 7500:\t0.1608\n",
      "Loss at iteration 7600:\t0.1593\n",
      "Loss at iteration 7700:\t0.1579\n",
      "Loss at iteration 7800:\t0.1565\n",
      "Loss at iteration 7900:\t0.1552\n",
      "\n",
      "train accuracy: 100.00%\n",
      "test accuracy: 76.00%\n"
     ]
    }
   ],
   "source": [
    "def main(): # main function to train and test the model\n",
    "    \n",
    "    # certain assertions\n",
    "    assert args.nl >= 2, 'Number of layers in the network should be atleast 2 excluding ip layer.'\n",
    "    assert len(args.nx) == args.nl, '''Excluding ip layer, number of nodes for each layer must be specified.\n",
    "                                             Not more, not less.'''\n",
    "    assert len(args.fname_list) == args.nl, '''Non-linearities to be applied at each layer must be \n",
    "                                                         specified, excluding input layer. Not more, not less.'''\n",
    "    assert len(args.reg_method) == args.nl, '''Requirement of regularization must be mentioned for \n",
    "                                               every layer, excluding ip layer. Not more, not less.'''\n",
    "    \n",
    "    # load train data\n",
    "    a0, y = load_train_data()\n",
    "    a0 = flatten(a0)\n",
    "    a0 = a0/255. # normalize the data to [0, 1]     \n",
    "    \n",
    "    # insert num of features in i/p layers to args.nodelist\n",
    "    args.nx.insert(0, a0.shape[0])    \n",
    "    \n",
    "    # initialize weights and biases\n",
    "    Wlist, blist = initialize_params(args.nx)\n",
    "    \n",
    "    # train the model\n",
    "    train(a0, y, Wlist, blist)\n",
    "    \n",
    "    # test the model\n",
    "    print(f'train accuracy: {test_model(a0, y, Wlist, blist, args.fname_list) * 100:.2f}%')\n",
    "\n",
    "    x, y = load_test_data()\n",
    "    x = flatten(x)\n",
    "    x = x/255. # normalize the data to [0, 1]\n",
    "    print(f'test accuracy: {test_model(x, y, Wlist, blist, args.fname_list) * 100:.2f}%')\n",
    "    \n",
    "    return\n",
    "    \n",
    "if __name__ == '__main__':\n",
    "    main()"
   ]
  },
  {
   "cell_type": "markdown",
   "metadata": {},
   "source": [
    "# Questions"
   ]
  },
  {
   "cell_type": "markdown",
   "metadata": {},
   "source": [
    "1. Did regularization have any effect at all? If not why? If yes, which regularization did better?"
   ]
  },
  {
   "cell_type": "markdown",
   "metadata": {},
   "source": [
    "#### Ans: We see that regularization doesn't have the desired effect. So, we can say that the overfitting is not due to noise but mostly due to lack of representative samples in the training set."
   ]
  },
  {
   "cell_type": "markdown",
   "metadata": {},
   "source": [
    "2. Split the train data into 90% train data and 10% valid data randomly. For every training iteration, compute validation loss and validation accuracy. Plot train loss, valid loss, train accuracy and valid accuracy against the number of iterations. Make your observations based on these plots. For splitting, np.random.shuffle and np.random.randint may be helpful."
   ]
  },
  {
   "cell_type": "code",
   "execution_count": 5,
   "metadata": {},
   "outputs": [],
   "source": [
    "def train_with_loss(a0, y, valid_data, valid_labels, Wlist, blist):\n",
    "\n",
    "    train_loss = [None] * args.miter\n",
    "    valid_loss = [None] * args.miter\n",
    "    train_accr = [None] * args.miter\n",
    "    valid_accr = [None] * args.miter\n",
    "    \n",
    "    m = a0.shape[1]\n",
    "    m1 = valid_data.shape[1]\n",
    "    epsilon = 1e-6\n",
    "   \n",
    "    cache, cache1, dWlist, dblist = ([None]*args.nl for i in range(4))\n",
    "    \n",
    "    for i in tqdm(range(args.miter)):\n",
    "        # FORWARD pass training data\n",
    "        a = a0\n",
    "        for l in range(args.nl):\n",
    "            a, cache[l] = forward(a, Wlist[l], blist[l], args.fname_list[l])     \n",
    "            \n",
    "        L = (-1/m) * np.sum((y * np.log(a) + (1-y) * np.log(1-a)))\n",
    "        \n",
    "        \n",
    "        # FORWARD pass for validation data\n",
    "        a1 = valid_data\n",
    "        for l in range(args.nl):\n",
    "            a1, cache1[l] = forward(a1, Wlist[l], blist[l], args.fname_list[l])\n",
    "        \n",
    "        L_valid = (-1/m1) * np.sum((valid_labels * np.log(a1) + (1-valid_labels) * np.log(1-a1)))         \n",
    "        \n",
    "        \n",
    "        for l in range(args.nl):\n",
    "            if args.reg_method[l] == 'NoReg':\n",
    "                L += 0\n",
    "                L_valid += 0\n",
    "            elif args.reg_method[l] == 'L1':\n",
    "                L += (args.lamda/m) * np.linalg.norm(Wlist[l], ord=1)\n",
    "                L_valid += (args.lamda/m1) * np.linalg.norm(Wlist[l], ord=1)\n",
    "            elif args.reg_method[l] == 'L2':\n",
    "                L += (args.lamda/(2*m)) * np.power(np.linalg.norm(Wlist[l]),2)  \n",
    "                L_valid += (args.lamda/(2*m1)) * np.power(np.linalg.norm(Wlist[l]),2)  \n",
    "            else:\n",
    "                raise ValueError('Unknown regularization method error')\n",
    "                \n",
    "        da = (1/m) * (a-y) * (1/((a * (1-a)) + epsilon)) \n",
    "        \n",
    "        for l in range(args.nl-1, -1, -1):\n",
    "            da, dWlist[l], dblist[l] = backward(da, cache[l], args.fname_list[l], args.reg_method[l]) \n",
    "\n",
    "        update_params(Wlist, blist, dWlist, dblist, args.alpha) \n",
    "        \n",
    "        train_loss[i] = L\n",
    "        train_accr[i] = test_model(a0, y, Wlist, blist, args.fname_list) * 100\n",
    "        valid_loss[i] = L_valid\n",
    "        valid_accr[i] = test_model(valid_data, valid_labels, Wlist, blist, args.fname_list) * 100\n",
    "        if not i%100: \n",
    "                print(f'Loss at iteration {i}:\\t{np.asscalar(L):.8f}')\n",
    "                \n",
    "    return train_loss, train_accr, valid_loss, valid_accr\n"
   ]
  },
  {
   "cell_type": "code",
   "execution_count": 6,
   "metadata": {},
   "outputs": [
    {
     "name": "stdout",
     "output_type": "stream",
     "text": [
      "(12289, 209)\n",
      "(12289, 209)\n",
      "(12288, 189) (189,)\n",
      "(12288, 20) (20,)\n"
     ]
    }
   ],
   "source": [
    "train_valid_split = 10     # percentage of data for validation\n",
    "\n",
    "\n",
    "a0, y = load_train_data()\n",
    "a0 = flatten(a0)\n",
    "a0 = a0/255. # normalize the data to [0, 1]     \n",
    "\n",
    "y1 = np.reshape(y, (1,209))\n",
    "# print(a0.shape, y1.shape)\n",
    "x = np.append(arr=a0, axis=0, values=y1)\n",
    "print(x.shape)\n",
    "x = x.T\n",
    "np.random.shuffle(x)\n",
    "X = x.T\n",
    "x_valid = X[:, :int(209 * train_valid_split / 100)]\n",
    "x_train = X[:,int(209 * train_valid_split / 100):]\n",
    "train_labels = x_train[12288:,]\n",
    "valid_labels = x_valid[12288:,]\n",
    "# tmp = x[:,0]\n",
    "print(X.shape)\n",
    "\n",
    "train_labels = np.reshape(train_labels, (train_labels.shape[1],))\n",
    "valid_labels = np.reshape(valid_labels, (valid_labels.shape[1],))\n",
    "x_train = np.delete(arr=x_train, obj=12288, axis=0)\n",
    "x_valid = np.delete(arr=x_valid, obj=12288, axis=0)\n",
    "\n",
    "print(x_train.shape, train_labels.shape)\n",
    "print(x_valid.shape, valid_labels.shape)\n",
    "\n",
    "# validation_indices = np.random.randint(0, 209, 209 * train_valid_split)\n",
    "# valid_data = [None "
   ]
  },
  {
   "cell_type": "code",
   "execution_count": 7,
   "metadata": {
    "scrolled": true
   },
   "outputs": [
    {
     "data": {
      "application/vnd.jupyter.widget-view+json": {
       "model_id": "34651da995764cf99b34b3e6cc98bd69",
       "version_major": 2,
       "version_minor": 0
      },
      "text/plain": [
       "HBox(children=(IntProgress(value=0, max=8000), HTML(value='')))"
      ]
     },
     "metadata": {},
     "output_type": "display_data"
    },
    {
     "name": "stdout",
     "output_type": "stream",
     "text": [
      "Loss at iteration 0:\t1.16650175\n",
      "Loss at iteration 100:\t1.10001964\n",
      "Loss at iteration 200:\t1.07274304\n",
      "Loss at iteration 300:\t1.03299427\n",
      "Loss at iteration 400:\t0.98441755\n",
      "Loss at iteration 500:\t0.93449022\n",
      "Loss at iteration 600:\t0.87561971\n",
      "Loss at iteration 700:\t0.81255376\n",
      "Loss at iteration 800:\t0.75464543\n",
      "Loss at iteration 900:\t0.70429822\n",
      "Loss at iteration 1000:\t0.67075505\n",
      "Loss at iteration 1100:\t0.62484294\n",
      "Loss at iteration 1200:\t0.62071863\n",
      "Loss at iteration 1300:\t0.55944274\n",
      "Loss at iteration 1400:\t0.51108216\n",
      "Loss at iteration 1500:\t0.48181063\n",
      "Loss at iteration 1600:\t0.46719809\n",
      "Loss at iteration 1700:\t0.44503831\n",
      "Loss at iteration 1800:\t0.42124108\n",
      "Loss at iteration 1900:\t0.40702195\n",
      "Loss at iteration 2000:\t0.39372972\n",
      "Loss at iteration 2100:\t0.38036180\n",
      "Loss at iteration 2200:\t0.36952997\n",
      "Loss at iteration 2300:\t0.35961373\n",
      "Loss at iteration 2400:\t0.35029917\n",
      "Loss at iteration 2500:\t0.34219030\n",
      "Loss at iteration 2600:\t0.33424648\n",
      "Loss at iteration 2700:\t0.32619823\n",
      "Loss at iteration 2800:\t0.31886297\n",
      "Loss at iteration 2900:\t0.31199959\n",
      "Loss at iteration 3000:\t0.30563904\n",
      "Loss at iteration 3100:\t0.29927148\n",
      "Loss at iteration 3200:\t0.29320571\n",
      "Loss at iteration 3300:\t0.28746276\n",
      "Loss at iteration 3400:\t0.28188649\n",
      "Loss at iteration 3500:\t0.27664800\n",
      "Loss at iteration 3600:\t0.27155941\n",
      "Loss at iteration 3700:\t0.26653801\n",
      "Loss at iteration 3800:\t0.26182640\n",
      "Loss at iteration 3900:\t0.25724441\n",
      "Loss at iteration 4000:\t0.25280891\n",
      "Loss at iteration 4100:\t0.24850710\n",
      "Loss at iteration 4200:\t0.24439691\n",
      "Loss at iteration 4300:\t0.24031758\n",
      "Loss at iteration 4400:\t0.23637346\n",
      "Loss at iteration 4500:\t0.23265986\n",
      "Loss at iteration 4600:\t0.22896863\n",
      "Loss at iteration 4700:\t0.22554201\n",
      "Loss at iteration 4800:\t0.22211090\n",
      "Loss at iteration 4900:\t0.21875745\n",
      "Loss at iteration 5000:\t0.21546985\n",
      "Loss at iteration 5100:\t0.21248587\n",
      "Loss at iteration 5200:\t0.20946286\n",
      "Loss at iteration 5300:\t0.20647839\n",
      "Loss at iteration 5400:\t0.20372060\n",
      "Loss at iteration 5500:\t0.20089947\n",
      "Loss at iteration 5600:\t0.19826446\n",
      "Loss at iteration 5700:\t0.19569326\n",
      "Loss at iteration 5800:\t0.19333667\n",
      "Loss at iteration 5900:\t0.19078058\n",
      "Loss at iteration 6000:\t0.18857038\n",
      "Loss at iteration 6100:\t0.18621642\n",
      "Loss at iteration 6200:\t0.18399539\n",
      "Loss at iteration 6300:\t0.18189851\n",
      "Loss at iteration 6400:\t0.17979283\n",
      "Loss at iteration 6500:\t0.17791134\n",
      "Loss at iteration 6600:\t0.17596730\n",
      "Loss at iteration 6700:\t0.17410468\n",
      "Loss at iteration 6800:\t0.17225862\n",
      "Loss at iteration 6900:\t0.17047202\n",
      "Loss at iteration 7000:\t0.16868014\n",
      "Loss at iteration 7100:\t0.16702348\n",
      "Loss at iteration 7200:\t0.16540850\n",
      "Loss at iteration 7300:\t0.16385855\n",
      "Loss at iteration 7400:\t0.16240286\n",
      "Loss at iteration 7500:\t0.16095753\n",
      "Loss at iteration 7600:\t0.15948769\n",
      "Loss at iteration 7700:\t0.15816740\n",
      "Loss at iteration 7800:\t0.15683535\n",
      "Loss at iteration 7900:\t0.15543742\n",
      "\n",
      "train accuracy: 100.00%\n",
      "test accuracy: 72.00%\n"
     ]
    }
   ],
   "source": [
    "a0 = x_train\n",
    "# insert num of features in i/p layers to args.nodelist\n",
    "\n",
    "# args.nx.insert(0, a0.shape[0])    \n",
    "# initialize weights and biases\n",
    "Wlist, blist = initialize_params(args.nx)\n",
    "\n",
    "# train the model\n",
    "train_loss, train_accr, valid_loss, valid_accr = train_with_loss(a0, train_labels, x_valid, valid_labels, Wlist, blist)\n",
    "\n",
    "# test the model\n",
    "print(f'train accuracy: {test_model(a0, train_labels, Wlist, blist, args.fname_list) * 100:.2f}%')\n",
    "x, y = load_test_data()\n",
    "x = flatten(x)\n",
    "x = x/255. # normalize the data to [0, 1]\n",
    "print(f'test accuracy: {test_model(x, y, Wlist, blist, args.fname_list) * 100:.2f}%')"
   ]
  },
  {
   "cell_type": "code",
   "execution_count": 8,
   "metadata": {
    "scrolled": false
   },
   "outputs": [
    {
     "data": {
      "image/png": "[encoded data removed]",
      "text/plain": [
       "<Figure size 432x288 with 1 Axes>"
      ]
     },
     "metadata": {},
     "output_type": "display_data"
    }
   ],
   "source": [
    "x_axis = [i for i in range(1, args.miter+1)]\n",
    "plt.plot(x_axis, train_loss, 'b', label='train_loss')\n",
    "plt.plot(x_axis, valid_loss, 'r', label='valid_loss')\n",
    "plt.xlabel('Iterations')\n",
    "plt.ylabel('Loss')\n",
    "plt.legend()\n",
    "plt.show()"
   ]
  },
  {
   "cell_type": "code",
   "execution_count": 9,
   "metadata": {},
   "outputs": [
    {
     "data": {
      "image/png": "[encoded data removed]",
      "text/plain": [
       "<Figure size 432x288 with 1 Axes>"
      ]
     },
     "metadata": {},
     "output_type": "display_data"
    }
   ],
   "source": [
    "plt.plot(x_axis, train_accr, 'b', label='train_accr')\n",
    "plt.plot(x_axis, valid_accr, 'r', label='valid_accr')\n",
    "plt.xlabel('Iterations')\n",
    "plt.ylabel('Accuracy (in percentage)')\n",
    "plt.legend()\n",
    "plt.show()"
   ]
  },
  {
   "cell_type": "markdown",
   "metadata": {},
   "source": [
    "#### We see that both the train loss and the validation loss decreases but validation loss remains much higher than the train loss.\n",
    "#### For the train and validation accuracies, we observe that initially they improve very sharply followed by some variations. Then, after touching their peak values, validation loss strarts to vary a lot fall showing over-fitting."
   ]
  },
  {
   "cell_type": "markdown",
   "metadata": {},
   "source": [
    "Note: All questions will be answered in the jupyter notebook only. Wherever code is required you write and run the code in a code cell. For text, write and render in a markdown cell."
   ]
  },
  {
   "cell_type": "code",
   "execution_count": null,
   "metadata": {},
   "outputs": [],
   "source": []
  }
 ],
 "metadata": {
  "kernelspec": {
   "display_name": "Python 3",
   "language": "python",
   "name": "python3"
  },
  "language_info": {
   "codemirror_mode": {
    "name": "ipython",
    "version": 3
   },
   "file_extension": ".py",
   "mimetype": "text/x-python",
   "name": "python",
   "nbconvert_exporter": "python",
   "pygments_lexer": "ipython3",
   "version": "3.6.5"
  }
 },
 "nbformat": 4,
 "nbformat_minor": 2
}
