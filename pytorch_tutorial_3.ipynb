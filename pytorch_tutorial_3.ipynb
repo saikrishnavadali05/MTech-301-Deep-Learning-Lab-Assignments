{
  "nbformat": 4,
  "nbformat_minor": 0,
  "metadata": {
    "colab": {
      "name": "pytorch_tutorial_3.ipynb",
      "version": "0.3.2",
      "provenance": [],
      "collapsed_sections": []
    },
    "kernelspec": {
      "name": "python3",
      "display_name": "Python 3"
    }
  },
  "cells": [
    {
      "cell_type": "markdown",
      "metadata": {
        "id": "_Nn2hXQbDKNB",
        "colab_type": "text"
      },
      "source": [
        "# PyTorch tutorial - Part3\n",
        "Before we get into this tutorial, let us list out some bullet points from last tutorial.\n",
        "- Computation of every Tensor is associated with a computation graph.\n",
        "- If requires_grad attribute of a Tensor is True, 'backward' can be called on that Tensor which will compute gradient of that Tensor w.r.to the leaves in the computation graph of that Tensor. For getting the gradient of a Tensor w.r.to an internal node in the graph, we should call 'retain_grad' on the Tensor associated with the internal node prior to 'backward' call.  Of course, the requires_grad attributes of all those Tensors w.r.to which the gradients are to be computed must be set to True.\n",
        "- The gradients are accumulated (not refreshed) into the 'grad' attribute of the Tensor.\n",
        "- At the end of the 'backward' call, the computation graph associated with the Tensor on which 'backward' was called will be freed. A subequent call to 'backward' will fail. For this call to pass, the previous call should have been made with retain_graph argument set to true.\n",
        "- Nodes of computation graph are 'Function' objects. We can get to know the 'Function' object through grad_fn attribute of the Tensor.\n",
        "- 'backward' evaluates the graph backwards using chain rule. Internally, at each node,  it computes the product of transpose of Jacobian with the incoming gradient to obtain the gradient at that node.If the Tensor on which 'backward' is called is a multi-dimensional Tensor, the initial incoming gradients have to be supplied through the gradient argument in the 'backward' method.\n",
        "- Hooks can be registered on a Tensor using 'register_hook' method. This hook will be called immediatedly after the gradients are computed w.r.to that Tensor during backpropagation. The hook takes the gradeint w.r.to that Tensor as input and either returns a new gradient or None. The current gradient cannot be modified by the hook. If new gradient is returned, it will be used further in the backpropgation. Otherwise the current gradient will be used.\n",
        "- 'detach' method can be used to detach a Tensor from the computation graph. This method returns a new Tensor with its required_grad set to False but shares memory with the original Tensor.\n",
        "-'grad' method in torch.autograd can be used for computing higher order derivatives.\n",
        "- 'no_grad' context manager from torch.autograd can be used for running a set of computations that do not require 'backward'. The results of these computations are not buffered for backpropagation.\n",
        "- If within the 'no_grad' context, requires_grad need to be enabled, 'enable_grad' context manager from torch.autograd can be used.\n",
        "\n",
        "As a suggestion, it is better to avoid in-place operations in PyTorch. You can refer to [Inplace Semantics](https://pytorch.org/docs/stable/notes/autograd.html) for further details.\n"
      ]
    },
    {
      "cell_type": "markdown",
      "metadata": {
        "id": "3bZ6F_i1R8ZP",
        "colab_type": "text"
      },
      "source": [
        "Also, I will list below few more utility methods defined in torch package that I request you to go through from [Pytorch Documentation](https://pytorch.org/docs/stable/torch.html). Many methods that we had already seen on Tensors are also defined through torch. Apart from that, I'm listing a few other methods from torch below:\n",
        "- is_tensor, isnan, isfinite, isinf\n",
        "- as_tensor\n",
        "- arange\n",
        "- cat\n",
        "- stack\n",
        "- save\n",
        "- load\n",
        "- max, min, argmax, argmin\n",
        "- flatten\n",
        "- meshgrid\n",
        "- matmul\n",
        "\n"
      ]
    },
    {
      "cell_type": "markdown",
      "metadata": {
        "id": "cXZQaCJwP69Q",
        "colab_type": "text"
      },
      "source": [
        "Having got familiarity with Tensors and Autograd mechanics in Pytorch, we will start building neural networks in this tutorial. The primary class defined in PyTorch for this purpose is the 'Module' class in torch.nn. This should form the base class for all the models we are going to build in Pytorch. We will understand the 'Module class in detail through various examples.\n",
        "<br>\n",
        "<br>\n",
        "To start with let's code the model described in exercise 2 in assignment 2c. The model is as follows:\n",
        "\n",
        "I/p---->Linear1---->ReLU----->Linear2---->ReLU---->Linear3----ReLU---->Linear4---->ReLU--->Linear5---->Sigmoid      \n",
        "    where: \n",
        "    \n",
        "       Linear1 has 64*64*3=12288 incoming connections and 30 outgoing connections\n",
        "       Linear2 has 30 incoming connections and 30 outgoing connections\n",
        "       Linear3 has 30 incoming  connections and 30 outgoing connections \n",
        "       Linear4 has 30 incoming  connections and 30 outgoing connections\n",
        "       Linear5 has 30 incoming  connections and 1 outgoing connection\n"
      ]
    },
    {
      "cell_type": "code",
      "metadata": {
        "id": "hMQ76oSsC-Vg",
        "colab_type": "code",
        "colab": {}
      },
      "source": [
        "import torch\n",
        "import torch.nn as nn\n",
        "class MyModel(nn.Module): # your model is inheriting from the base class\n",
        "    def __init__(self, infeatures): # infeatures is the size of input features\n",
        "                                              # nclasses is the number of classes\n",
        "        super().__init__()\n",
        "        self.infeatures = infeatures\n",
        "        \n",
        "        self.fc1 = nn.Linear(self.infeatures, 30)\n",
        "        self.fc2 = nn.Linear(30, 30)\n",
        "        self.fc3 = nn.Linear(30, 30)\n",
        "        self.fc4 = nn.Linear(30, 30)\n",
        "        self.fc5 = nn.Linear(30, 1)\n",
        "        self.relu = nn.ReLU()\n",
        "        self.sigmoid = nn.Sigmoid()\n",
        "    \n",
        "    def forward(self, x): # forward method of base class 'Module' overridden here\n",
        "                          # size of x is (batch_size, infeatures)\n",
        "        x = self.relu(self.fc1(x))\n",
        "        x = self.relu(self.fc2(x))\n",
        "        x = self.relu(self.fc3(x))\n",
        "        x = self.relu(self.fc4(x))\n",
        "        x = self.sigmoid(self.fc5(x))\n",
        "        return x # size of x here is (batch_size, 1)"
      ],
      "execution_count": 0,
      "outputs": []
    },
    {
      "cell_type": "markdown",
      "metadata": {
        "id": "cqo6L55iVkLA",
        "colab_type": "text"
      },
      "source": [
        "That's it. The model is ready. Let us understand the above code carefully.\n",
        "- First, your model has to inherit from 'Module' class. This class is a container that contains your model. It has lot of useful methods that your model can use. We will see those methods and learn how to use them as we go along.\n",
        "- The  \\_\\_init\\_\\_ method performs initialization of your model. First, you invoke base class initialization. The number of input features is initialized by passing it as argument during initialization.\n",
        "- This model is made up of fully connected layers. We can create them using the 'Linear' class in torch.nn. This class itself is a subclass of 'Module' class. An object of this class can be instantiated by supplying the infeatures and outfeatures parameter. Once the object is instantiated, a weight Tensor of size (outfeatures, infeatures)  is automatically created and initialized with values in uniform($-\\sqrt{k}, \\sqrt{k}$) where $k$ = $\\frac{1}{infeatures}$. \n",
        "- If bias parameter during instantiation of 'Linear' Module is set to True, a bias Tensor also is automatically created and initialized to random values. \n",
        "- Both  weight Tensor and bias Tensor are objects of type 'Parameter' defined in torch.nn. 'Parameter' is a subclass of Tensor. A 'Parameter' object is a special Tensor object because it has by default requires_grad set to True and so is learnable. So, weight and bias Parameters associated with the 'Linear' Module are learnable.\n",
        "- Non-linear activations like ReLU and Sigmoid are also modeled as subclasses of 'Module'. They can be instantiated as shown in the above code. They do not have any 'Parameter's associated with them. Their 'forward' method will apply the required non-linearity.\n",
        "- Your model must override the 'forward' method in the base 'Module' class. This method can take any number of parameters. In this example it takes the input x. \n",
        "- Note that x has to be of size (batch_size, infeatures) for it to be an input to 'Linear' Module. In fact, PyTorch 'Module's operate on input that come in batches. batch_size is generally the first dimension for most 'Module's but in some cases like RNN's and its variants, we can set batch_size to be second dimension if we want to. \n",
        "- In PyTorch, 'Module's are callable classes where the 'forward' method of the Module is called. Therefore, when we call self.fc1(x) in the forward method above, we are actually calling self.fc1.forward(x). Similar is the case with other calls in the forward method defined above. Implicit calling of forward is preferred since this has the special effect of making sure the registered_hooks on the 'Module's are called. Explicit calling of forward ignores the hooks.\n",
        "<br>\n",
        "<br>\n",
        "The code below will add more clarity w.r.to the 'Parameter's associated with 'Linear' Module's."
      ]
    },
    {
      "cell_type": "code",
      "metadata": {
        "id": "FnzcJdU9a6po",
        "colab_type": "code",
        "outputId": "58d32b74-5e71-4715-fbf5-0df2828864a1",
        "colab": {
          "base_uri": "https://localhost:8080/",
          "height": 767
        }
      },
      "source": [
        "mymodel = MyModel(12288)\n",
        "print('mymodel:\\n\\n')\n",
        "for i, (name, m) in enumerate(mymodel.named_children()): # since mymodel is inherited from 'Module', 'named_children' method can be used on it to get an iterator \n",
        "                                                         # over its immediate children, yielding both the name of the module as well as the module itself.\n",
        "                                                         #If you do not want name, you can use 'children' method in the 'Module' class\n",
        "  print(f'\\t\\tSubmodule {i}:\\n\\t\\t\\tName:\\t{name}')\n",
        "  if type(m) == nn.Linear: # the attributes weight and bias are available only for Linear modules in this model\n",
        "    print(f'\\t\\t\\tweight.size:\\t{m.weight.size()}\\n\\t\\t\\tweight.requires_grad:\\t{m.weight.requires_grad}\\n\\t\\t\\tbias.size: \\\n",
        "            \\t{m.bias.size()}\\n\\t\\t\\tbias.requires_grad:\\t{m.bias.requires_grad}\\n')\n",
        "\n"
      ],
      "execution_count": 2,
      "outputs": [
        {
          "output_type": "stream",
          "text": [
            "mymodel:\n",
            "\n",
            "\n",
            "\t\tSubmodule 0:\n",
            "\t\t\tName:\tfc1\n",
            "\t\t\tweight.size:\ttorch.Size([30, 12288])\n",
            "\t\t\tweight.requires_grad:\tTrue\n",
            "\t\t\tbias.size:             \ttorch.Size([30])\n",
            "\t\t\tbias.requires_grad:\tTrue\n",
            "\n",
            "\t\tSubmodule 1:\n",
            "\t\t\tName:\tfc2\n",
            "\t\t\tweight.size:\ttorch.Size([30, 30])\n",
            "\t\t\tweight.requires_grad:\tTrue\n",
            "\t\t\tbias.size:             \ttorch.Size([30])\n",
            "\t\t\tbias.requires_grad:\tTrue\n",
            "\n",
            "\t\tSubmodule 2:\n",
            "\t\t\tName:\tfc3\n",
            "\t\t\tweight.size:\ttorch.Size([30, 30])\n",
            "\t\t\tweight.requires_grad:\tTrue\n",
            "\t\t\tbias.size:             \ttorch.Size([30])\n",
            "\t\t\tbias.requires_grad:\tTrue\n",
            "\n",
            "\t\tSubmodule 3:\n",
            "\t\t\tName:\tfc4\n",
            "\t\t\tweight.size:\ttorch.Size([30, 30])\n",
            "\t\t\tweight.requires_grad:\tTrue\n",
            "\t\t\tbias.size:             \ttorch.Size([30])\n",
            "\t\t\tbias.requires_grad:\tTrue\n",
            "\n",
            "\t\tSubmodule 4:\n",
            "\t\t\tName:\tfc5\n",
            "\t\t\tweight.size:\ttorch.Size([1, 30])\n",
            "\t\t\tweight.requires_grad:\tTrue\n",
            "\t\t\tbias.size:             \ttorch.Size([1])\n",
            "\t\t\tbias.requires_grad:\tTrue\n",
            "\n",
            "\t\tSubmodule 5:\n",
            "\t\t\tName:\trelu\n",
            "\t\tSubmodule 6:\n",
            "\t\t\tName:\tsigmoid\n"
          ],
          "name": "stdout"
        }
      ]
    },
    {
      "cell_type": "markdown",
      "metadata": {
        "id": "ZHnEbebNj114",
        "colab_type": "text"
      },
      "source": [
        "Suppose you want to initialize biases to zero and weights to be sampled from standard normal multiplied by 0.01. We can use the 'apply' method of 'Module' class as follows."
      ]
    },
    {
      "cell_type": "code",
      "metadata": {
        "id": "5YjrR3qwa-A3",
        "colab_type": "code",
        "outputId": "b749df01-700e-4742-f3d4-55bd755111dc",
        "colab": {
          "base_uri": "https://localhost:8080/",
          "height": 178
        }
      },
      "source": [
        "def init_params(m):\n",
        "  if type(m) == nn.Linear:\n",
        "    m.weight.data = torch.randn(m.weight.size())*.01\n",
        "    m.bias.data = torch.zeros(m.bias.size())\n",
        "\n",
        "mymodel.apply(init_params) # applies init_params function to each immediate child Module and itself\n",
        "# we will verify by print bias Parameter of all Linear layers\n",
        "for i, m in enumerate(mymodel.children()):\n",
        "  if type(m) == nn.Linear:\n",
        "    print(f'Bias Parameter of fc{i}:\\t{m.bias.data}')"
      ],
      "execution_count": 3,
      "outputs": [
        {
          "output_type": "stream",
          "text": [
            "Bias Parameter of fc0:\ttensor([0., 0., 0., 0., 0., 0., 0., 0., 0., 0., 0., 0., 0., 0., 0., 0., 0., 0., 0., 0., 0., 0., 0., 0.,\n",
            "        0., 0., 0., 0., 0., 0.])\n",
            "Bias Parameter of fc1:\ttensor([0., 0., 0., 0., 0., 0., 0., 0., 0., 0., 0., 0., 0., 0., 0., 0., 0., 0., 0., 0., 0., 0., 0., 0.,\n",
            "        0., 0., 0., 0., 0., 0.])\n",
            "Bias Parameter of fc2:\ttensor([0., 0., 0., 0., 0., 0., 0., 0., 0., 0., 0., 0., 0., 0., 0., 0., 0., 0., 0., 0., 0., 0., 0., 0.,\n",
            "        0., 0., 0., 0., 0., 0.])\n",
            "Bias Parameter of fc3:\ttensor([0., 0., 0., 0., 0., 0., 0., 0., 0., 0., 0., 0., 0., 0., 0., 0., 0., 0., 0., 0., 0., 0., 0., 0.,\n",
            "        0., 0., 0., 0., 0., 0.])\n",
            "Bias Parameter of fc4:\ttensor([0.])\n"
          ],
          "name": "stdout"
        }
      ]
    },
    {
      "cell_type": "markdown",
      "metadata": {
        "id": "Hwhlq8CQmZ3r",
        "colab_type": "text"
      },
      "source": [
        "We can also build the same model using another container class in torch.nn namely 'Sequential'.  Modules will be added to it in the sequential order they are passed in the constructor. note that 'Sequential' is inherited from 'Module'. So, all the methods defined in 'Module'  can be used on 'Sequential' objects as well. See the example below."
      ]
    },
    {
      "cell_type": "code",
      "metadata": {
        "id": "DvUqWnSXl0Fn",
        "colab_type": "code",
        "outputId": "6c825e57-13ee-49f0-89bc-cf57223dd371",
        "colab": {
          "base_uri": "https://localhost:8080/",
          "height": 821
        }
      },
      "source": [
        "mymodel_1 = nn.Sequential(\n",
        "                          nn.Linear(12288, 30),\n",
        "                          nn.ReLU(),\n",
        "                          nn.Linear(30, 30),\n",
        "                          nn.ReLU(),\n",
        "                          nn.Linear(30, 30),\n",
        "                          nn.ReLU(),\n",
        "                          nn.Linear(30, 30),\n",
        "                          nn.ReLU(),\n",
        "                          nn.Linear(30, 1),\n",
        "                          nn.Sigmoid()\n",
        "                        )\n",
        "for i, (name, m) in enumerate(mymodel_1.named_children()):\n",
        "    print(f'\\t\\tSubmodule {i}:\\n\\t\\t\\tName:\\t{name}')\n",
        "    if type(m) == nn.Linear: # the attributes weight and bias are available only for Linear modules in this model\n",
        "        print(f'\\t\\t\\tweight.size:\\t{m.weight.size()}\\n\\t\\t\\tweight.requires_grad:\\t{m.weight.requires_grad}\\n\\t\\t\\tbias.size: \\\n",
        "            \\t{m.bias.size()}\\n\\t\\t\\tbias.requires_grad:\\t{m.bias.requires_grad}\\n')    "
      ],
      "execution_count": 4,
      "outputs": [
        {
          "output_type": "stream",
          "text": [
            "\t\tSubmodule 0:\n",
            "\t\t\tName:\t0\n",
            "\t\t\tweight.size:\ttorch.Size([30, 12288])\n",
            "\t\t\tweight.requires_grad:\tTrue\n",
            "\t\t\tbias.size:             \ttorch.Size([30])\n",
            "\t\t\tbias.requires_grad:\tTrue\n",
            "\n",
            "\t\tSubmodule 1:\n",
            "\t\t\tName:\t1\n",
            "\t\tSubmodule 2:\n",
            "\t\t\tName:\t2\n",
            "\t\t\tweight.size:\ttorch.Size([30, 30])\n",
            "\t\t\tweight.requires_grad:\tTrue\n",
            "\t\t\tbias.size:             \ttorch.Size([30])\n",
            "\t\t\tbias.requires_grad:\tTrue\n",
            "\n",
            "\t\tSubmodule 3:\n",
            "\t\t\tName:\t3\n",
            "\t\tSubmodule 4:\n",
            "\t\t\tName:\t4\n",
            "\t\t\tweight.size:\ttorch.Size([30, 30])\n",
            "\t\t\tweight.requires_grad:\tTrue\n",
            "\t\t\tbias.size:             \ttorch.Size([30])\n",
            "\t\t\tbias.requires_grad:\tTrue\n",
            "\n",
            "\t\tSubmodule 5:\n",
            "\t\t\tName:\t5\n",
            "\t\tSubmodule 6:\n",
            "\t\t\tName:\t6\n",
            "\t\t\tweight.size:\ttorch.Size([30, 30])\n",
            "\t\t\tweight.requires_grad:\tTrue\n",
            "\t\t\tbias.size:             \ttorch.Size([30])\n",
            "\t\t\tbias.requires_grad:\tTrue\n",
            "\n",
            "\t\tSubmodule 7:\n",
            "\t\t\tName:\t7\n",
            "\t\tSubmodule 8:\n",
            "\t\t\tName:\t8\n",
            "\t\t\tweight.size:\ttorch.Size([1, 30])\n",
            "\t\t\tweight.requires_grad:\tTrue\n",
            "\t\t\tbias.size:             \ttorch.Size([1])\n",
            "\t\t\tbias.requires_grad:\tTrue\n",
            "\n",
            "\t\tSubmodule 9:\n",
            "\t\t\tName:\t9\n"
          ],
          "name": "stdout"
        }
      ]
    },
    {
      "cell_type": "markdown",
      "metadata": {
        "id": "POFqgNYHo-XP",
        "colab_type": "text"
      },
      "source": [
        "Carefully observe how the naming of submodules is done. It is the range of numbers from 0 to 9 in the order submodules were passed to 'Sequential' constructor. If you want to explicitly provide names to the submodules as you had done earlier, you can pass them as ordered dict as shown in the following example."
      ]
    },
    {
      "cell_type": "code",
      "metadata": {
        "id": "Za0JkZnioQp0",
        "colab_type": "code",
        "outputId": "4ff976a8-2da0-41d7-c40e-ba60bfd9a9c5",
        "colab": {
          "base_uri": "https://localhost:8080/",
          "height": 821
        }
      },
      "source": [
        "from collections import OrderedDict\n",
        "mymodel_1 = nn.Sequential(OrderedDict([\n",
        "                            ('fc1', nn.Linear(12288, 30)),\n",
        "                            ('relu1', nn.ReLU()),\n",
        "                            ('fc2', nn.Linear(30, 30)),\n",
        "                            ('relu2', nn.ReLU()),\n",
        "                            ('fc3', nn.Linear(30, 30)),\n",
        "                            ('relu3', nn.ReLU()),\n",
        "                            ('fc4', nn.Linear(30, 30)),\n",
        "                            ('relu4',nn.ReLU()),\n",
        "                            ('fc5', nn.Linear(30, 1)),\n",
        "                            ('sigmoid', nn.Sigmoid())\n",
        "                          ])\n",
        "                        )\n",
        "for i, (name, m) in enumerate(mymodel_1.named_children()):\n",
        "    print(f'\\t\\tSubmodule {i}:\\n\\t\\t\\tName:\\t{name}')\n",
        "    if type(m) == nn.Linear: # the attributes weight and bias are available only for Linear modules in this model\n",
        "        print(f'\\t\\t\\tweight.size:\\t{m.weight.size()}\\n\\t\\t\\tweight.requires_grad:\\t{m.weight.requires_grad}\\n\\t\\t\\tbias.size: \\\n",
        "            \\t{m.bias.size()}\\n\\t\\t\\tbias.requires_grad:\\t{m.bias.requires_grad}\\n')    "
      ],
      "execution_count": 5,
      "outputs": [
        {
          "output_type": "stream",
          "text": [
            "\t\tSubmodule 0:\n",
            "\t\t\tName:\tfc1\n",
            "\t\t\tweight.size:\ttorch.Size([30, 12288])\n",
            "\t\t\tweight.requires_grad:\tTrue\n",
            "\t\t\tbias.size:             \ttorch.Size([30])\n",
            "\t\t\tbias.requires_grad:\tTrue\n",
            "\n",
            "\t\tSubmodule 1:\n",
            "\t\t\tName:\trelu1\n",
            "\t\tSubmodule 2:\n",
            "\t\t\tName:\tfc2\n",
            "\t\t\tweight.size:\ttorch.Size([30, 30])\n",
            "\t\t\tweight.requires_grad:\tTrue\n",
            "\t\t\tbias.size:             \ttorch.Size([30])\n",
            "\t\t\tbias.requires_grad:\tTrue\n",
            "\n",
            "\t\tSubmodule 3:\n",
            "\t\t\tName:\trelu2\n",
            "\t\tSubmodule 4:\n",
            "\t\t\tName:\tfc3\n",
            "\t\t\tweight.size:\ttorch.Size([30, 30])\n",
            "\t\t\tweight.requires_grad:\tTrue\n",
            "\t\t\tbias.size:             \ttorch.Size([30])\n",
            "\t\t\tbias.requires_grad:\tTrue\n",
            "\n",
            "\t\tSubmodule 5:\n",
            "\t\t\tName:\trelu3\n",
            "\t\tSubmodule 6:\n",
            "\t\t\tName:\tfc4\n",
            "\t\t\tweight.size:\ttorch.Size([30, 30])\n",
            "\t\t\tweight.requires_grad:\tTrue\n",
            "\t\t\tbias.size:             \ttorch.Size([30])\n",
            "\t\t\tbias.requires_grad:\tTrue\n",
            "\n",
            "\t\tSubmodule 7:\n",
            "\t\t\tName:\trelu4\n",
            "\t\tSubmodule 8:\n",
            "\t\t\tName:\tfc5\n",
            "\t\t\tweight.size:\ttorch.Size([1, 30])\n",
            "\t\t\tweight.requires_grad:\tTrue\n",
            "\t\t\tbias.size:             \ttorch.Size([1])\n",
            "\t\t\tbias.requires_grad:\tTrue\n",
            "\n",
            "\t\tSubmodule 9:\n",
            "\t\t\tName:\tsigmoid\n"
          ],
          "name": "stdout"
        }
      ]
    },
    {
      "cell_type": "markdown",
      "metadata": {
        "id": "RSQOXZrSrcyO",
        "colab_type": "text"
      },
      "source": [
        "Another observation is that we have not explicitly overridden 'forward' method in this case. When we call, for example, mymodel_1(x), since it is a 'Sequential' object, the 'forward' method of each of the submodule contained in mymodel_1 is called in order with each 'forward' taking as input the result of the previous 'forward'. The result of final 'forward' is returned."
      ]
    },
    {
      "cell_type": "markdown",
      "metadata": {
        "id": "z0IIAWZTuTkq",
        "colab_type": "text"
      },
      "source": [
        "Having defined the model, let us now focus on data. Make sure you have uploaded the datasets folder you have been using in assignments 1 and 2 to your google drive. Then run the following cell and complete the authorisation."
      ]
    },
    {
      "cell_type": "code",
      "metadata": {
        "id": "nQajwM4zvzOA",
        "colab_type": "code",
        "outputId": "7db2a2f1-17ea-4a7e-d37f-bdcdb24cbce3",
        "colab": {
          "base_uri": "https://localhost:8080/",
          "height": 126
        }
      },
      "source": [
        "from google.colab import drive\n",
        "drive.mount('/content/drive')"
      ],
      "execution_count": 6,
      "outputs": [
        {
          "output_type": "stream",
          "text": [
            "Go to this URL in a browser: https://accounts.google.com/o/oauth2/auth?client_id=947318989803-6bn6qk8qdgf4n4g3pfee6491hc0brc4i.apps.googleusercontent.com&redirect_uri=urn%3Aietf%3Awg%3Aoauth%3A2.0%3Aoob&scope=email%20https%3A%2F%2Fwww.googleapis.com%2Fauth%2Fdocs.test%20https%3A%2F%2Fwww.googleapis.com%2Fauth%2Fdrive%20https%3A%2F%2Fwww.googleapis.com%2Fauth%2Fdrive.photos.readonly%20https%3A%2F%2Fwww.googleapis.com%2Fauth%2Fpeopleapi.readonly&response_type=code\n",
            "\n",
            "Enter your authorization code:\n",
            "··········\n",
            "Mounted at /content/drive\n"
          ],
          "name": "stdout"
        }
      ]
    },
    {
      "cell_type": "markdown",
      "metadata": {
        "id": "knRCDnGlwbJi",
        "colab_type": "text"
      },
      "source": [
        "Now check if the datasets folder is available as shown below."
      ]
    },
    {
      "cell_type": "code",
      "metadata": {
        "id": "5_w-o_adpmXA",
        "colab_type": "code",
        "outputId": "fcc91094-5083-45ab-a9d3-728d0df0180c",
        "colab": {
          "base_uri": "https://localhost:8080/",
          "height": 35
        }
      },
      "source": [
        "ls /content/drive/My\\ Drive/datasets/"
      ],
      "execution_count": 7,
      "outputs": [
        {
          "output_type": "stream",
          "text": [
            "test_catvnoncat.h5  train_catvnoncat.h5\n"
          ],
          "name": "stdout"
        }
      ]
    },
    {
      "cell_type": "markdown",
      "metadata": {
        "id": "CfQQv1uZC8Fl",
        "colab_type": "text"
      },
      "source": [
        "The following code opens the train data h5 file and prints some of its properties."
      ]
    },
    {
      "cell_type": "code",
      "metadata": {
        "id": "bXJW27LqD7Vg",
        "colab_type": "code",
        "outputId": "0156b97f-de08-411e-bd87-5fe5c18198ac",
        "colab": {
          "base_uri": "https://localhost:8080/",
          "height": 196
        }
      },
      "source": [
        "import h5py\n",
        "import os\n",
        "import numpy as np\n",
        "data_path = '/content/drive/My Drive/datasets'\n",
        "train_data = h5py.File(os.path.join(data_path, 'train_catvnoncat.h5'), \"r\")\n",
        "print(f'Keys in train_data dictionary:\\n{[key for key in train_data.keys()]}')\n",
        "print(f'Number of images in the training set:\\n{train_data[\"train_set_x\"].shape[0]}')\n",
        "print(f'Shape of the training_set of images:\\n{train_data[\"train_set_x\"].shape}')\n",
        "print(f'Shape of the training_set of labels:\\n{train_data[\"train_set_y\"].shape}')\n",
        "\n",
        "train_x = np.array(train_data[\"train_set_x\"], dtype=np.uint8)\n",
        "train_x = train_x / 255.\n",
        "avg = np.mean(train_x, axis = (0, 1, 2))\n",
        "std = np.std(train_x, axis = (0, 1, 2))\n",
        "print(f'Mean of scaled (by 255) training set across RGB cahnnels: {avg}')\n",
        "print(f'Standard deviation of scaled (by 255) training set across RGB cahnnels: {std}')"
      ],
      "execution_count": 8,
      "outputs": [
        {
          "output_type": "stream",
          "text": [
            "Keys in train_data dictionary:\n",
            "['list_classes', 'train_set_x', 'train_set_y']\n",
            "Number of images in the training set:\n",
            "209\n",
            "Shape of the training_set of images:\n",
            "(209, 64, 64, 3)\n",
            "Shape of the training_set of labels:\n",
            "(209,)\n",
            "Mean of scaled (by 255) training set across RGB cahnnels: [0.43553055 0.42217036 0.35414762]\n",
            "Standard deviation of scaled (by 255) training set across RGB cahnnels: [0.26568017 0.24862071 0.26769836]\n"
          ],
          "name": "stdout"
        }
      ]
    },
    {
      "cell_type": "markdown",
      "metadata": {
        "id": "Soo-vzhRxJKI",
        "colab_type": "text"
      },
      "source": [
        "In PyTorch a dataset is represented by an abstract class named 'Dataset' defined in torch.utils.data. All other datasets should subclass it. All subclasses should override ''\\_\\_len\\_\\_' method that returns the size of the dataset, and '\\_\\_getitem\\_\\_' method that returns the i$^{th}$ data item where i varies from 0 to size of the dataset minus 1. So, a data in the dataset comes out through the  '\\_\\_getitem\\_\\_' method. Note that, in python,  '\\_\\_getitem\\_\\_' method defined in a class enables its object to be indexed by an index i and, it returns the i$^{th}$ item of the object. Item in our example means the image and the corresponding label."
      ]
    },
    {
      "cell_type": "code",
      "metadata": {
        "id": "1H-KzN9_wD5W",
        "colab_type": "code",
        "colab": {}
      },
      "source": [
        "from torch.utils.data import Dataset\n",
        "\n",
        "class CatDataset(Dataset):\n",
        "    \n",
        "    def __init__(self, data_path = '/content/drive/My Drive/datasets/train_catvnoncat.h5', transform = None):\n",
        "        self.transform = transform\n",
        "        self.data = h5py.File(data_path, 'r')\n",
        "        keys = [key for key in self.data.keys()]\n",
        "        for i in range(len(keys)):\n",
        "            if 'set_x' in keys[i]:\n",
        "                self.images = np.array(self.data[keys[i]][:], dtype=np.uint8)\n",
        "            elif 'set_y' in keys[i]:\n",
        "                self.labels = np.array(self.data[keys[i]][:], dtype=np.int)\n",
        "                \n",
        "    def __len__(self):\n",
        "        return self.labels.shape[0]\n",
        "    \n",
        "    def __getitem__(self, i):\n",
        "        assert 0<=i<len(self), f'i={i} corresponding to item number {i+1} exceeds size of the dataset that is {self.__len__()}'\n",
        "        image = self.images[i]\n",
        "        label = self.labels[i]\n",
        "        if self.transform:\n",
        "            image = self.transform(image)\n",
        "        else:\n",
        "            image = image.transpose(2, 0, 1)\n",
        "            image = image/255.\n",
        "            image = torch.from_numpy(image)\n",
        "            image = image.to(dtype=torch.float32)\n",
        "        \n",
        "        label = torch.tensor(label, dtype=torch.uint8)\n",
        "        return image, label\n",
        "        \n",
        "    "
      ],
      "execution_count": 0,
      "outputs": []
    },
    {
      "cell_type": "markdown",
      "metadata": {
        "id": "DiUblFMTFlw4",
        "colab_type": "text"
      },
      "source": [
        "Let us understand the 'CatDataset' class.\n",
        "\n",
        "*   First, it inherits from 'Dataset' class. 'Dataset' is an abstract class that does not do any initialization. So, we don't call super().\\_\\_init\\_\\_().\n",
        "*   In its initialization, it opens the h5 file from the given path to the data. The path could point to train data or test data. We subsequently read all the images and the labels  as numpy arrays. We read the images as uint8 arrays as this will be required by certain methods from torchvision package that we will discuss later.\n",
        "* Our 'CatDataset' class should override '\\_\\_len\\_\\_' method. Here it returns the length of the dataset.\n",
        "* Our 'CatDataset' class should override '\\_\\_getitem\\_\\_' method. Here it returns the i$^{th}$ image and its corresponding label. i is input parameter to '\\_\\_getitem\\_\\_' method. Before returning the image and the label, the transforms are applied if they had been supplied during initialization. We assume that if self.transform is not None, then there is a transform that converts the image to a Tensor in the range [0, 1] before return. We will see about this a little later. If self.transfrom is None, we explicitly convert the image to a Tensor  in the range [0, 1]. Note that Pytorch requires the channels x height x width format unlike numpy that works with height x width x channels format. So we need to permute the dimensions. Label also is converted to a Tensor before return.\n",
        "* In this definition of 'CatDataset' class, during intiialization we have read all the images and labels into CPU memory. This is fine because the dataset is small (only 209 images each 64x64x3 in size of uint8 dtype totally requiring around only 2.6MB). Otherwise, we can read the image directly in the '\\_\\_getitem\\_\\_' method as shown below.\n",
        "\n"
      ]
    },
    {
      "cell_type": "code",
      "metadata": {
        "id": "IICa0HLchh1j",
        "colab_type": "code",
        "colab": {}
      },
      "source": [
        "class CatDataset_eff(Dataset):\n",
        "    \n",
        "    def __init__(self, data_path = '/content/drive/My Drive/datasets/train_catvnoncat.h5', transform = None):\n",
        "        self.transform = transform\n",
        "        self.data = h5py.File(data_path, 'r')\n",
        "        keys = [key for key in self.data.keys()]\n",
        "        for i in range(len(keys)):\n",
        "            if 'set_x' in keys[i]:\n",
        "                self.image_key = keys[i]\n",
        "            elif 'set_y' in keys[i]:\n",
        "                self.label_key = keys[i]\n",
        "                \n",
        "    def __len__(self):\n",
        "        return 209 if 'train' in self.image_key else 50\n",
        "    \n",
        "    def __getitem__(self, i):\n",
        "        assert 0<=i<len(self), f'i={i} corresponding to item number {i+1} exceeds size of the dataset that is {self.__len__()}'\n",
        "        image = np.array(self.data[self.image_key][i], dtype=np.uint8)\n",
        "        label = self.data[self.label_key][i]\n",
        "        if self.transform:\n",
        "            image = self.transform(image)\n",
        "        else:\n",
        "            image = image.transpose(2, 0, 1)\n",
        "            image = image/255.\n",
        "            image = torch.from_numpy(image)\n",
        "            image = image.to(dtype=torch.float)\n",
        "        \n",
        "        label = torch.tensor(label, dtype=torch.uint8)\n",
        "        return image, label"
      ],
      "execution_count": 0,
      "outputs": []
    },
    {
      "cell_type": "code",
      "metadata": {
        "id": "b4zCSFWfAalG",
        "colab_type": "code",
        "outputId": "78fb0131-ef1d-46cf-f7b1-acab3c1a04e5",
        "colab": {
          "base_uri": "https://localhost:8080/",
          "height": 196
        }
      },
      "source": [
        "from torch.utils.data import DataLoader\n",
        "dset = CatDataset_eff()\n",
        "loader = DataLoader(dset, batch_size=64, shuffle=False, num_workers=2)\n",
        "for x, y in loader:\n",
        "    print(y)"
      ],
      "execution_count": 11,
      "outputs": [
        {
          "output_type": "stream",
          "text": [
            "tensor([0, 0, 1, 0, 0, 0, 0, 1, 0, 0, 0, 1, 0, 1, 1, 0, 0, 0, 0, 1, 0, 0, 0, 0,\n",
            "        1, 1, 0, 1, 0, 1, 0, 0, 0, 0, 0, 0, 0, 0, 1, 0, 0, 1, 1, 0, 0, 0, 0, 1,\n",
            "        0, 0, 1, 0, 0, 0, 1, 0, 1, 1, 0, 1, 1, 1, 0, 0], dtype=torch.uint8)\n",
            "tensor([0, 0, 0, 0, 1, 0, 0, 1, 0, 0, 0, 0, 0, 0, 0, 0, 0, 0, 0, 1, 1, 0, 0, 0,\n",
            "        1, 0, 0, 0, 1, 1, 1, 0, 0, 1, 0, 0, 0, 0, 1, 0, 1, 0, 1, 1, 1, 1, 1, 1,\n",
            "        0, 0, 0, 0, 0, 1, 0, 0, 0, 1, 0, 0, 1, 0, 1, 0], dtype=torch.uint8)\n",
            "tensor([1, 1, 0, 0, 0, 1, 1, 1, 1, 1, 0, 0, 0, 0, 1, 0, 1, 1, 1, 0, 1, 1, 0, 0,\n",
            "        0, 1, 0, 0, 1, 0, 0, 0, 0, 0, 1, 0, 1, 0, 1, 0, 0, 1, 1, 1, 0, 0, 1, 1,\n",
            "        0, 1, 0, 1, 0, 0, 0, 0, 0, 1, 0, 0, 1, 0, 0, 0], dtype=torch.uint8)\n",
            "tensor([1, 0, 0, 0, 0, 1, 0, 0, 1, 0, 0, 0, 0, 0, 0, 0, 0], dtype=torch.uint8)\n"
          ],
          "name": "stdout"
        }
      ]
    },
    {
      "cell_type": "markdown",
      "metadata": {
        "id": "eUbEC_XXnBLd",
        "colab_type": "text"
      },
      "source": [
        "Let's instantiate both the Dataset classes and extract some images and their labels."
      ]
    },
    {
      "cell_type": "code",
      "metadata": {
        "id": "nqXIpgprkoZ_",
        "colab_type": "code",
        "outputId": "563ca46b-8d97-4168-9148-65b511866bcc",
        "colab": {
          "base_uri": "https://localhost:8080/",
          "height": 403
        }
      },
      "source": [
        "data_path = '/content/drive/My Drive/datasets/train_catvnoncat.h5'\n",
        "dset = CatDataset()\n",
        "\n",
        "image, label = dset[5]\n",
        "print(f'Image {5} with size {image.size()} and label {label}')\n",
        "\n",
        "image, label = dset[11]\n",
        "print(f'Image {11} with size {image.size()} and label {label}')\n",
        "\n",
        "image, label = dset[203]\n",
        "print(f'Image {203} with size {image.size()} and label {label}')\n",
        "\n",
        "image, label = dset[209]\n",
        "print(f'Image {209} with size {image.size()} and label {label}')\n"
      ],
      "execution_count": 12,
      "outputs": [
        {
          "output_type": "stream",
          "text": [
            "Image 5 with size torch.Size([3, 64, 64]) and label 0\n",
            "Image 11 with size torch.Size([3, 64, 64]) and label 1\n",
            "Image 203 with size torch.Size([3, 64, 64]) and label 0\n"
          ],
          "name": "stdout"
        },
        {
          "output_type": "error",
          "ename": "AssertionError",
          "evalue": "ignored",
          "traceback": [
            "\u001b[0;31m---------------------------------------------------------------------------\u001b[0m",
            "\u001b[0;31mAssertionError\u001b[0m                            Traceback (most recent call last)",
            "\u001b[0;32m<ipython-input-12-c20302f906c9>\u001b[0m in \u001b[0;36m<module>\u001b[0;34m()\u001b[0m\n\u001b[1;32m     11\u001b[0m \u001b[0mprint\u001b[0m\u001b[0;34m(\u001b[0m\u001b[0;34mf'Image {203} with size {image.size()} and label {label}'\u001b[0m\u001b[0;34m)\u001b[0m\u001b[0;34m\u001b[0m\u001b[0;34m\u001b[0m\u001b[0m\n\u001b[1;32m     12\u001b[0m \u001b[0;34m\u001b[0m\u001b[0m\n\u001b[0;32m---> 13\u001b[0;31m \u001b[0mimage\u001b[0m\u001b[0;34m,\u001b[0m \u001b[0mlabel\u001b[0m \u001b[0;34m=\u001b[0m \u001b[0mdset\u001b[0m\u001b[0;34m[\u001b[0m\u001b[0;36m209\u001b[0m\u001b[0;34m]\u001b[0m\u001b[0;34m\u001b[0m\u001b[0;34m\u001b[0m\u001b[0m\n\u001b[0m\u001b[1;32m     14\u001b[0m \u001b[0mprint\u001b[0m\u001b[0;34m(\u001b[0m\u001b[0;34mf'Image {209} with size {image.size()} and label {label}'\u001b[0m\u001b[0;34m)\u001b[0m\u001b[0;34m\u001b[0m\u001b[0;34m\u001b[0m\u001b[0m\n",
            "\u001b[0;32m<ipython-input-9-0159b6cacc20>\u001b[0m in \u001b[0;36m__getitem__\u001b[0;34m(self, i)\u001b[0m\n\u001b[1;32m     17\u001b[0m \u001b[0;34m\u001b[0m\u001b[0m\n\u001b[1;32m     18\u001b[0m     \u001b[0;32mdef\u001b[0m \u001b[0m__getitem__\u001b[0m\u001b[0;34m(\u001b[0m\u001b[0mself\u001b[0m\u001b[0;34m,\u001b[0m \u001b[0mi\u001b[0m\u001b[0;34m)\u001b[0m\u001b[0;34m:\u001b[0m\u001b[0;34m\u001b[0m\u001b[0;34m\u001b[0m\u001b[0m\n\u001b[0;32m---> 19\u001b[0;31m         \u001b[0;32massert\u001b[0m \u001b[0;36m0\u001b[0m\u001b[0;34m<=\u001b[0m\u001b[0mi\u001b[0m\u001b[0;34m<\u001b[0m\u001b[0mlen\u001b[0m\u001b[0;34m(\u001b[0m\u001b[0mself\u001b[0m\u001b[0;34m)\u001b[0m\u001b[0;34m,\u001b[0m \u001b[0;34mf'i={i} corresponding to item number {i+1} exceeds size of the dataset that is {self.__len__()}'\u001b[0m\u001b[0;34m\u001b[0m\u001b[0;34m\u001b[0m\u001b[0m\n\u001b[0m\u001b[1;32m     20\u001b[0m         \u001b[0mimage\u001b[0m \u001b[0;34m=\u001b[0m \u001b[0mself\u001b[0m\u001b[0;34m.\u001b[0m\u001b[0mimages\u001b[0m\u001b[0;34m[\u001b[0m\u001b[0mi\u001b[0m\u001b[0;34m]\u001b[0m\u001b[0;34m\u001b[0m\u001b[0;34m\u001b[0m\u001b[0m\n\u001b[1;32m     21\u001b[0m         \u001b[0mlabel\u001b[0m \u001b[0;34m=\u001b[0m \u001b[0mself\u001b[0m\u001b[0;34m.\u001b[0m\u001b[0mlabels\u001b[0m\u001b[0;34m[\u001b[0m\u001b[0mi\u001b[0m\u001b[0;34m]\u001b[0m\u001b[0;34m\u001b[0m\u001b[0;34m\u001b[0m\u001b[0m\n",
            "\u001b[0;31mAssertionError\u001b[0m: i=209 corresponding to item number 210 exceeds size of the dataset that is 209"
          ]
        }
      ]
    },
    {
      "cell_type": "code",
      "metadata": {
        "id": "ZsWeU--ZnkQZ",
        "colab_type": "code",
        "outputId": "7a1acce3-aec8-493b-ae2c-ef41b9759bc3",
        "colab": {
          "base_uri": "https://localhost:8080/",
          "height": 386
        }
      },
      "source": [
        "data_path = '/content/drive/My Drive/datasets/test_catvnoncat.h5'\n",
        "dset = CatDataset_eff(data_path = data_path)\n",
        "\n",
        "image, label = dset[5]\n",
        "print(f'Image {5} with size {image.size()} and label {label}')\n",
        "\n",
        "image, label = dset[11]\n",
        "print(f'Image {11} with size {image.size()} and label {label}')\n",
        "\n",
        "image, label = dset[203]\n",
        "print(f'Image {203} with size {image.size()} and label {label}')"
      ],
      "execution_count": 13,
      "outputs": [
        {
          "output_type": "stream",
          "text": [
            "Image 5 with size torch.Size([3, 64, 64]) and label 0\n",
            "Image 11 with size torch.Size([3, 64, 64]) and label 1\n"
          ],
          "name": "stdout"
        },
        {
          "output_type": "error",
          "ename": "AssertionError",
          "evalue": "ignored",
          "traceback": [
            "\u001b[0;31m---------------------------------------------------------------------------\u001b[0m",
            "\u001b[0;31mAssertionError\u001b[0m                            Traceback (most recent call last)",
            "\u001b[0;32m<ipython-input-13-7ef92195753d>\u001b[0m in \u001b[0;36m<module>\u001b[0;34m()\u001b[0m\n\u001b[1;32m      8\u001b[0m \u001b[0mprint\u001b[0m\u001b[0;34m(\u001b[0m\u001b[0;34mf'Image {11} with size {image.size()} and label {label}'\u001b[0m\u001b[0;34m)\u001b[0m\u001b[0;34m\u001b[0m\u001b[0;34m\u001b[0m\u001b[0m\n\u001b[1;32m      9\u001b[0m \u001b[0;34m\u001b[0m\u001b[0m\n\u001b[0;32m---> 10\u001b[0;31m \u001b[0mimage\u001b[0m\u001b[0;34m,\u001b[0m \u001b[0mlabel\u001b[0m \u001b[0;34m=\u001b[0m \u001b[0mdset\u001b[0m\u001b[0;34m[\u001b[0m\u001b[0;36m203\u001b[0m\u001b[0;34m]\u001b[0m\u001b[0;34m\u001b[0m\u001b[0;34m\u001b[0m\u001b[0m\n\u001b[0m\u001b[1;32m     11\u001b[0m \u001b[0mprint\u001b[0m\u001b[0;34m(\u001b[0m\u001b[0;34mf'Image {203} with size {image.size()} and label {label}'\u001b[0m\u001b[0;34m)\u001b[0m\u001b[0;34m\u001b[0m\u001b[0;34m\u001b[0m\u001b[0m\n",
            "\u001b[0;32m<ipython-input-10-2d5dab6e5c15>\u001b[0m in \u001b[0;36m__getitem__\u001b[0;34m(self, i)\u001b[0m\n\u001b[1;32m     15\u001b[0m \u001b[0;34m\u001b[0m\u001b[0m\n\u001b[1;32m     16\u001b[0m     \u001b[0;32mdef\u001b[0m \u001b[0m__getitem__\u001b[0m\u001b[0;34m(\u001b[0m\u001b[0mself\u001b[0m\u001b[0;34m,\u001b[0m \u001b[0mi\u001b[0m\u001b[0;34m)\u001b[0m\u001b[0;34m:\u001b[0m\u001b[0;34m\u001b[0m\u001b[0;34m\u001b[0m\u001b[0m\n\u001b[0;32m---> 17\u001b[0;31m         \u001b[0;32massert\u001b[0m \u001b[0;36m0\u001b[0m\u001b[0;34m<=\u001b[0m\u001b[0mi\u001b[0m\u001b[0;34m<\u001b[0m\u001b[0mlen\u001b[0m\u001b[0;34m(\u001b[0m\u001b[0mself\u001b[0m\u001b[0;34m)\u001b[0m\u001b[0;34m,\u001b[0m \u001b[0;34mf'i={i} corresponding to item number {i+1} exceeds size of the dataset that is {self.__len__()}'\u001b[0m\u001b[0;34m\u001b[0m\u001b[0;34m\u001b[0m\u001b[0m\n\u001b[0m\u001b[1;32m     18\u001b[0m         \u001b[0mimage\u001b[0m \u001b[0;34m=\u001b[0m \u001b[0mnp\u001b[0m\u001b[0;34m.\u001b[0m\u001b[0marray\u001b[0m\u001b[0;34m(\u001b[0m\u001b[0mself\u001b[0m\u001b[0;34m.\u001b[0m\u001b[0mdata\u001b[0m\u001b[0;34m[\u001b[0m\u001b[0mself\u001b[0m\u001b[0;34m.\u001b[0m\u001b[0mimage_key\u001b[0m\u001b[0;34m]\u001b[0m\u001b[0;34m[\u001b[0m\u001b[0mi\u001b[0m\u001b[0;34m]\u001b[0m\u001b[0;34m,\u001b[0m \u001b[0mdtype\u001b[0m\u001b[0;34m=\u001b[0m\u001b[0mnp\u001b[0m\u001b[0;34m.\u001b[0m\u001b[0muint8\u001b[0m\u001b[0;34m)\u001b[0m\u001b[0;34m\u001b[0m\u001b[0;34m\u001b[0m\u001b[0m\n\u001b[1;32m     19\u001b[0m         \u001b[0mlabel\u001b[0m \u001b[0;34m=\u001b[0m \u001b[0mself\u001b[0m\u001b[0;34m.\u001b[0m\u001b[0mdata\u001b[0m\u001b[0;34m[\u001b[0m\u001b[0mself\u001b[0m\u001b[0;34m.\u001b[0m\u001b[0mlabel_key\u001b[0m\u001b[0;34m]\u001b[0m\u001b[0;34m[\u001b[0m\u001b[0mi\u001b[0m\u001b[0;34m]\u001b[0m\u001b[0;34m\u001b[0m\u001b[0;34m\u001b[0m\u001b[0m\n",
            "\u001b[0;31mAssertionError\u001b[0m: i=203 corresponding to item number 204 exceeds size of the dataset that is 50"
          ]
        }
      ]
    },
    {
      "cell_type": "markdown",
      "metadata": {
        "id": "DuShrrV5s9_r",
        "colab_type": "text"
      },
      "source": [
        "Now let's look at transforms. Transforms are useful when we want to augument data, normalize data and convert data to Pytorch Tensor. For applying transforms to images, Pytorch requires them to be PIL images. Let us consider applying RandomHorizontalFlip to our data. Further we also want to convert the PIL image/nd array to Tensor and normalize. See the example below."
      ]
    },
    {
      "cell_type": "code",
      "metadata": {
        "id": "qfbuwj6IqmoS",
        "colab_type": "code",
        "colab": {}
      },
      "source": [
        "import torchvision.transforms\n",
        "\n",
        "transforms = torchvision.transforms.Compose([\n",
        "                                torchvision.transforms.ToPILImage(),\n",
        "                                torchvision.transforms.RandomHorizontalFlip(),\n",
        "                                torchvision.transforms.ToTensor(),\n",
        "                                torchvision.transforms.Normalize(mean=(0.43553055, 0.42217036, 0.35414762), std=(0.26568017, 0.24862071, 0.26769836))                                           \n",
        "                                           ])"
      ],
      "execution_count": 0,
      "outputs": []
    },
    {
      "cell_type": "markdown",
      "metadata": {
        "id": "PtWGevgNx9Jk",
        "colab_type": "text"
      },
      "source": [
        "'Compose' is a callable class that when called applies the given sequence of transforms in order. In th example above, we wanted to apply 'RandomHorizontalFlip'. But prior to that, the ndarray need to be transformed to PIL image. So we require 'ToPILImage' transform. After 'RandomHorizontalFlip', we have to transform back the PIL image to Tensor. So, we require 'ToTensor' transform. Finally we normalize the Tensor using 'Normalize' transform. You must look into the documentation of these transforms to understand their behaviour.\n",
        "\n",
        "We will now again instantiate our dataset classes with these tranforms and display some images."
      ]
    },
    {
      "cell_type": "code",
      "metadata": {
        "id": "bHXM2z86y8bJ",
        "colab_type": "code",
        "outputId": "23d0d5ca-451e-467f-e523-c4a38abee7b8",
        "colab": {
          "base_uri": "https://localhost:8080/",
          "height": 287
        }
      },
      "source": [
        "import matplotlib.pyplot as plt\n",
        "from torchvision.utils import make_grid\n",
        "%matplotlib inline\n",
        "\n",
        "def show(img):\n",
        "    npimg = img.numpy()\n",
        "    plt.imshow(np.transpose(npimg, (1,2,0)), interpolation='nearest')\n",
        "    \n",
        "dset = CatDataset(transform = transforms)\n",
        "grid_tensor = torch.empty((9, 3, 64, 64))\n",
        "for i in range(0, 9):\n",
        "    grid_tensor[i] = dset[i][0]\n",
        "\n",
        "grid_tensor = torchvision.utils.make_grid(grid_tensor, nrow=3, padding=2, pad_value=1) # very useful method to make a grid of images and display them\n",
        "show(grid_tensor)"
      ],
      "execution_count": 15,
      "outputs": [
        {
          "output_type": "stream",
          "text": [
            "Clipping input data to the valid range for imshow with RGB data ([0..1] for floats or [0..255] for integers).\n"
          ],
          "name": "stderr"
        },
        {
          "output_type": "display_data",
          "data": {
            "image/png": "[encoded data removed]",
            "text/plain": [
              "<Figure size 432x288 with 1 Axes>"
            ]
          },
          "metadata": {
            "tags": []
          }
        }
      ]
    },
    {
      "cell_type": "code",
      "metadata": {
        "id": "JJTZ3pLo0xG7",
        "colab_type": "code",
        "outputId": "39a93e6d-ef2b-4fce-87c0-2091b92490c9",
        "colab": {
          "base_uri": "https://localhost:8080/",
          "height": 287
        }
      },
      "source": [
        "dset = CatDataset_eff(transform = transforms)\n",
        "grid_tensor = torch.empty((9, 3, 64, 64))\n",
        "for i in range(0, 9):\n",
        "    grid_tensor[i] = dset[i][0]\n",
        "\n",
        "grid_tensor = torchvision.utils.make_grid(grid_tensor, nrow=3, padding=2, pad_value=1)\n",
        "show(grid_tensor)"
      ],
      "execution_count": 16,
      "outputs": [
        {
          "output_type": "stream",
          "text": [
            "Clipping input data to the valid range for imshow with RGB data ([0..1] for floats or [0..255] for integers).\n"
          ],
          "name": "stderr"
        },
        {
          "output_type": "display_data",
          "data": {
            "image/png": "[encoded data removed]",
            "text/plain": [
              "<Figure size 432x288 with 1 Axes>"
            ]
          },
          "metadata": {
            "tags": []
          }
        }
      ]
    },
    {
      "cell_type": "markdown",
      "metadata": {
        "id": "u8ruSVPP8Gox",
        "colab_type": "text"
      },
      "source": [
        "So, you must have got an idea about 'Dataset' class. There are more available in torch.utils.data. To summarise,  your dataset class should inherit from 'Dataset' class and, override ''\\_\\_len\\_\\_' and '\\_\\_getitem\\_\\_' methods. \\_\\_getitem\\_\\_' method must return the i$^{th}$ item of the dataset.\n",
        "<br>\n",
        "<br>\n",
        "Now, from this 'Dataset' class we should be able to extract minibatch of images and labels during training. We can explicitly do that in a loop. But if we want to use a particular strategy for sampling and/or shuffle the data and/or use multiple threads to load the minibatch etc, it becomes difficult for us to write the code that handles all these scenarios. Instead we can use the 'DataLoader' class available in torch.utils.data. It combines a dataset and a sampler, and provides an iterable. \n",
        "<br>\n",
        "<br>\n",
        "Let us see an example."
      ]
    },
    {
      "cell_type": "code",
      "metadata": {
        "id": "CTqyKLlT5dw7",
        "colab_type": "code",
        "colab": {}
      },
      "source": [
        "from torch.utils.data import DataLoader\n",
        "train_loader = DataLoader(dset, batch_size=64, shuffle=True, num_workers=4)"
      ],
      "execution_count": 0,
      "outputs": []
    },
    {
      "cell_type": "markdown",
      "metadata": {
        "id": "xk6JVTAzZx4Q",
        "colab_type": "text"
      },
      "source": [
        "We have instantiated a 'DataLoader' over the 'CatDataset_eff' object dset asking it to load  minibatch of images and labels from dset of size 32 with data shuffled. We want 4 threads/processes to participate in this process thereby making the loading process faster. The 'DataLoader' object can be made as an iterator object that we can use to iterate over dset to get minibatches with data shuffled across minibatches. See the code below."
      ]
    },
    {
      "cell_type": "code",
      "metadata": {
        "id": "GajNs6rhZUi6",
        "colab_type": "code",
        "outputId": "deb12f09-c630-4f5f-c08f-fe1979d4eefb",
        "colab": {
          "base_uri": "https://localhost:8080/",
          "height": 303
        }
      },
      "source": [
        "train_loader_iter = iter(train_loader)\n",
        "images, labels=next(train_loader_iter)\n",
        "print(f'Minibatch 1 size: {images.size(0)}')\n",
        "print(f'Size of images Tensor:{images.size()}')\n",
        "print(f'Size of labels Tensor:{labels.size()}\\n')\n",
        "images, labels=next(train_loader_iter)\n",
        "print(f'Minibatch 2 size: {images.size(0)}')\n",
        "print(f'Size of images Tensor:{images.size()}')\n",
        "print(f'Size of labels Tensor:{labels.size()}\\n')\n",
        "images, labels=next(train_loader_iter)\n",
        "print(f'Minibatch 3 size: {images.size(0)}')\n",
        "print(f'Size of images Tensor:{images.size()}')\n",
        "print(f'Size of labels Tensor:{labels.size()}\\n')\n",
        "images, labels=next(train_loader_iter)\n",
        "print(f'Minibatch 4 size: {images.size(0)}')\n",
        "print(f'Size of images Tensor:{images.size()}')\n",
        "print(f'Size of labels Tensor:{labels.size()}\\n')"
      ],
      "execution_count": 18,
      "outputs": [
        {
          "output_type": "stream",
          "text": [
            "Minibatch 1 size: 64\n",
            "Size of images Tensor:torch.Size([64, 3, 64, 64])\n",
            "Size of labels Tensor:torch.Size([64])\n",
            "\n",
            "Minibatch 2 size: 64\n",
            "Size of images Tensor:torch.Size([64, 3, 64, 64])\n",
            "Size of labels Tensor:torch.Size([64])\n",
            "\n",
            "Minibatch 3 size: 64\n",
            "Size of images Tensor:torch.Size([64, 3, 64, 64])\n",
            "Size of labels Tensor:torch.Size([64])\n",
            "\n",
            "Minibatch 4 size: 17\n",
            "Size of images Tensor:torch.Size([17, 3, 64, 64])\n",
            "Size of labels Tensor:torch.Size([17])\n",
            "\n"
          ],
          "name": "stdout"
        }
      ]
    },
    {
      "cell_type": "markdown",
      "metadata": {
        "id": "lwIiIYjxfI6Y",
        "colab_type": "text"
      },
      "source": [
        "We can see that the last minibatch has size 17 since 209 is not exactly divisible by 64. Now the dset has been exhausted and therefore one more 'next' call will give an error. If you want to iterate through the dset again, you have to create the iterator again."
      ]
    },
    {
      "cell_type": "code",
      "metadata": {
        "id": "6cuBVAYidUU4",
        "colab_type": "code",
        "outputId": "6f734f4d-91cc-4825-fe6d-9022c53d93cd",
        "colab": {
          "base_uri": "https://localhost:8080/",
          "height": 296
        }
      },
      "source": [
        "next(train_loader_iter)"
      ],
      "execution_count": 19,
      "outputs": [
        {
          "output_type": "error",
          "ename": "StopIteration",
          "evalue": "ignored",
          "traceback": [
            "\u001b[0;31m---------------------------------------------------------------------------\u001b[0m",
            "\u001b[0;31mStopIteration\u001b[0m                             Traceback (most recent call last)",
            "\u001b[0;32m<ipython-input-19-1a593ab4d939>\u001b[0m in \u001b[0;36m<module>\u001b[0;34m()\u001b[0m\n\u001b[0;32m----> 1\u001b[0;31m \u001b[0mnext\u001b[0m\u001b[0;34m(\u001b[0m\u001b[0mtrain_loader_iter\u001b[0m\u001b[0;34m)\u001b[0m\u001b[0;34m\u001b[0m\u001b[0;34m\u001b[0m\u001b[0m\n\u001b[0m",
            "\u001b[0;32m/usr/local/lib/python3.6/dist-packages/torch/utils/data/dataloader.py\u001b[0m in \u001b[0;36m__next__\u001b[0;34m(self)\u001b[0m\n\u001b[1;32m    570\u001b[0m         \u001b[0;32mif\u001b[0m \u001b[0mself\u001b[0m\u001b[0;34m.\u001b[0m\u001b[0mbatches_outstanding\u001b[0m \u001b[0;34m==\u001b[0m \u001b[0;36m0\u001b[0m\u001b[0;34m:\u001b[0m\u001b[0;34m\u001b[0m\u001b[0;34m\u001b[0m\u001b[0m\n\u001b[1;32m    571\u001b[0m             \u001b[0mself\u001b[0m\u001b[0;34m.\u001b[0m\u001b[0m_shutdown_workers\u001b[0m\u001b[0;34m(\u001b[0m\u001b[0;34m)\u001b[0m\u001b[0;34m\u001b[0m\u001b[0;34m\u001b[0m\u001b[0m\n\u001b[0;32m--> 572\u001b[0;31m             \u001b[0;32mraise\u001b[0m \u001b[0mStopIteration\u001b[0m\u001b[0;34m\u001b[0m\u001b[0;34m\u001b[0m\u001b[0m\n\u001b[0m\u001b[1;32m    573\u001b[0m \u001b[0;34m\u001b[0m\u001b[0m\n\u001b[1;32m    574\u001b[0m         \u001b[0;32mwhile\u001b[0m \u001b[0;32mTrue\u001b[0m\u001b[0;34m:\u001b[0m\u001b[0;34m\u001b[0m\u001b[0;34m\u001b[0m\u001b[0m\n",
            "\u001b[0;31mStopIteration\u001b[0m: "
          ]
        }
      ]
    },
    {
      "cell_type": "markdown",
      "metadata": {
        "id": "mTapwEWs-k18",
        "colab_type": "text"
      },
      "source": [
        "We are now ready to train our model. See the code below."
      ]
    },
    {
      "cell_type": "code",
      "metadata": {
        "id": "_vd1t3Ke-8wT",
        "colab_type": "code",
        "outputId": "120232b7-48bf-4147-bff0-e4c904b5209c",
        "colab": {
          "base_uri": "https://localhost:8080/",
          "height": 106
        }
      },
      "source": [
        "import torch.nn as nn\n",
        "import torch.optim as optim\n",
        "import torchvision.transforms\n",
        "from torch.utils.data import DataLoader\n",
        "\n",
        "def train(model, loader, loss_criterion, optimizer, num_epochs):\n",
        "  for epoch in range(num_epochs): # for each epoch\n",
        "    for images, labels in loader: # for each batch of images and labels\n",
        "      if torch.cuda.is_available(): # if gpu available,\n",
        "        images = images.to(device = 'cuda') \n",
        "        labels = labels.to(device = 'cuda') # move batch of images and labels to gpu memory\n",
        "      images = flatten(images) # flatten the batch of images since our model is fully connected\n",
        "      outputs = model(images) # do forward propagation\n",
        "      loss = loss_criterion(outputs.squeeze(), labels.to(dtype = torch.float)) # compute loss\n",
        "      optimizer.zero_grad() # make sure gradients of parameters are zeroed before backpropagation to avoid accumulation\n",
        "      loss.backward() # do the backpropagation\n",
        "      optimizer.step() # update the parameters\n",
        "      \n",
        "    if epoch%100 == 0:\n",
        "      print(f'Training loss at epoch {epoch+1}:\\t{loss.item()}')\n",
        "  return mymodel    \n",
        "def flatten(z):\n",
        "    m, c, h, w= z.shape\n",
        "    nx = h*w*c\n",
        "    z = z.reshape((m, nx))\n",
        "    return z \n",
        "      \n",
        "def main():\n",
        "  mymodel = MyModel(12288) # instantiate the model\n",
        "  mymodel.apply(init_params) # initialize parameters\n",
        "  if torch.cuda.is_available():\n",
        "    mymodel = mymodel.to(device = 'cuda') # move entire model to gpu memory; all its parameters, buffers are moved to gpu memory\n",
        "  loss_criterion = nn.BCELoss() # instantiate the loss criterion; since we are doing binary classification, we will use binary cross entropy loss\n",
        "  optimizer = optim.SGD(mymodel.parameters(), lr=0.0015) # instantiate optimizer; here we are using stochastic gradient descent \n",
        "                                                                  # with learning rate as 0.008 \n",
        "    \n",
        "  # next few lines will build the loader to load the data\n",
        "  ########################################################################\n",
        "  transforms = torchvision.transforms.Compose([\n",
        "                                torchvision.transforms.ToPILImage(),\n",
        "                                torchvision.transforms.RandomHorizontalFlip(),\n",
        "                                torchvision.transforms.ToTensor(),\n",
        "                                torchvision.transforms.Normalize(mean=(0.43553055, 0.42217036, 0.35414762), std=(0.26568017, 0.24862071, 0.26769836))                                           \n",
        "                                           ])\n",
        "  dset = CatDataset()\n",
        "  train_loader = DataLoader(dset, batch_size=64, shuffle=True, num_workers=4)\n",
        "  ########################################################################\n",
        "  \n",
        "  return train(mymodel, train_loader, loss_criterion, optimizer, 500)\n",
        "\n",
        "if __name__ == '__main__':\n",
        "  mymodel = main()"
      ],
      "execution_count": 20,
      "outputs": [
        {
          "output_type": "stream",
          "text": [
            "Training loss at epoch 1:\t0.6930069327354431\n",
            "Training loss at epoch 101:\t0.6863360404968262\n",
            "Training loss at epoch 201:\t0.7011944055557251\n",
            "Training loss at epoch 301:\t0.6795673966407776\n",
            "Training loss at epoch 401:\t0.644843578338623\n"
          ],
          "name": "stdout"
        }
      ]
    },
    {
      "cell_type": "markdown",
      "metadata": {
        "id": "SHCpbay2Mr5q",
        "colab_type": "text"
      },
      "source": [
        "We had not dicussed about loss criterion and optimizer. You can refer to torch.nn module for a variety of loss functions. For optimizers, PyTorch has a small package called torch.optim. It contains a variety of optimizers. You can have a look at them. Two important points are: (i) We should make sure before calling 'backward' method on the loss Tensor, the gradients are zeroed out. For this we can use 'zero_grad' method on the optimizer object. Note that while initializing optimizer, we send it all the learnable parameters by calling 'parameters' method on the module. (ii) parameter updates happen by calling 'step' method on the optimizer object. Optimizer object has access to all the learnable parameters and so it does the update when 'step'  is called. Also note that we have used 'item' method on loss Tensor while printing since we require here only the scalar value of the loss Tensor and not the entire Tensor.\n",
        "\n",
        "\n",
        "\n",
        " "
      ]
    },
    {
      "cell_type": "markdown",
      "metadata": {
        "id": "4JgbdLYvPcvh",
        "colab_type": "text"
      },
      "source": [
        "## Assignment\n",
        "1. Write code to test the model and print the accuracy.\n",
        "2. Use Xavier initialization on all weight parameters of your model and report the history of training loss, and test accuracy. For this torch.nn.init will be very useful.\n",
        "3. Modify your data set class so that it can return train data or validation data based on its 'sampler' keyword argument. The method 'SubsetRandomSampler' in torch.utils.data will be useful."
      ]
    },
    {
      "cell_type": "code",
      "metadata": {
        "id": "MiOH7KgyARNj",
        "colab_type": "code",
        "outputId": "76e9b8c7-fdbd-4452-ff28-fef32f088f77",
        "colab": {
          "base_uri": "https://localhost:8080/",
          "height": 53
        }
      },
      "source": [
        "# 1. Write code to test the model and print the accuracy.\n",
        "\n",
        "# Answer 1:\n",
        "\n",
        "\n",
        "dset_test = CatDataset_eff(data_path='/content/drive/My Drive/datasets/test_catvnoncat.h5')\n",
        "test_loader = DataLoader(dset_test, batch_size=16, num_workers=4)\n",
        "\n",
        "def predict(outputs):\n",
        "    return outputs > 0.5\n",
        "\n",
        "def test(model, loader, loss_criterion):\n",
        "    loss = 0\n",
        "    acc = 0.\n",
        "    for images, labels in loader:\n",
        "        if torch.cuda.is_available():\n",
        "            images = images.to(device='cuda')\n",
        "            labels = labels.to(device='cuda')\n",
        "        images = flatten(images)\n",
        "        outputs = model(images)\n",
        "        # print(outputs)\n",
        "        loss += loss_criterion(outputs.squeeze(), labels.to(dtype=torch.float))\n",
        "        acc += np.sum(predict(outputs.squeeze().detach().cpu().numpy()) == labels.to(dtype=torch.float).cpu().numpy())\n",
        "    print(\"Loss: \\t\\t\", loss.item()/len(loader.dataset),\"\\nAccuracy: \\t\", float(acc)/len(loader.dataset))\n",
        "\n",
        "if torch.cuda.is_available():\n",
        "    mymodel = mymodel.to(device='cuda')\n",
        "test(mymodel, test_loader, loss_criterion=nn.BCELoss())\n",
        "    "
      ],
      "execution_count": 21,
      "outputs": [
        {
          "output_type": "stream",
          "text": [
            "Loss: \t\t 0.05545173645019531 \n",
            "Accuracy: \t 0.68\n"
          ],
          "name": "stdout"
        }
      ]
    },
    {
      "cell_type": "code",
      "metadata": {
        "id": "dbb5UL9AqOrH",
        "colab_type": "code",
        "outputId": "bacf13cd-f0a9-46cd-a9d1-ef1aaa37a70e",
        "colab": {
          "base_uri": "https://localhost:8080/",
          "height": 142
        }
      },
      "source": [
        "# 2. Use Xavier initialization on all weight parameters of your model and report the history of training loss, and test accuracy.\n",
        "#    For this torch.nn.init will be very useful.mymodel = MyModel(12288)\n",
        "\n",
        "# Answer: \n",
        "\n",
        "def init_params(m):\n",
        "    if type(m) == nn.Linear:\n",
        "        nn.init.xavier_normal_(m.weight.data)\n",
        "        m.bias.data = torch.zeros(m.bias.size())\n",
        "\n",
        "transforms = torchvision.transforms.Compose([\n",
        "                                torchvision.transforms.ToPILImage(),\n",
        "                                torchvision.transforms.RandomHorizontalFlip(),\n",
        "                                torchvision.transforms.ToTensor(),\n",
        "                                torchvision.transforms.Normalize(mean=(0.43553055, 0.42217036, 0.35414762), std=(0.26568017, 0.24862071, 0.26769836))                                           \n",
        "                                           ])\n",
        "dset = CatDataset()\n",
        "train_loader = DataLoader(dset, batch_size=64, shuffle=True, num_workers=4)\n",
        "\n",
        "mymodel = MyModel(12288)\n",
        "mymodel.apply(init_params)\n",
        "if torch.cuda.is_available():\n",
        "    mymodel = mymodel.to(device='cuda')\n",
        "loss_criterion = nn.BCELoss()\n",
        "optimizer = optim.SGD(mymodel.parameters(), lr=0.001)\n",
        "mymodel = train(mymodel, train_loader, loss_criterion, optimizer, 500)\n",
        "test(mymodel, test_loader, loss_criterion)    \n"
      ],
      "execution_count": 22,
      "outputs": [
        {
          "output_type": "stream",
          "text": [
            "Training loss at epoch 1:\t0.6844162940979004\n",
            "Training loss at epoch 101:\t0.5793744921684265\n",
            "Training loss at epoch 201:\t0.5593104958534241\n",
            "Training loss at epoch 301:\t0.5890556573867798\n",
            "Training loss at epoch 401:\t0.31251296401023865\n",
            "Loss: \t\t 0.059546289443969724 \n",
            "Accuracy: \t 0.7\n"
          ],
          "name": "stdout"
        }
      ]
    },
    {
      "cell_type": "code",
      "metadata": {
        "id": "r-5ivMet5rIV",
        "colab_type": "code",
        "colab": {}
      },
      "source": [
        ""
      ],
      "execution_count": 0,
      "outputs": []
    },
    {
      "cell_type": "code",
      "metadata": {
        "id": "aPSiXCaOjC0L",
        "colab_type": "code",
        "colab": {}
      },
      "source": [
        "# 3. Modify your data set class so that it can return train data or validation data based on its 'sampler' keyword argument.\n",
        "#    The method 'SubsetRandomSampler' in torch.utils.data will be useful.\n",
        "\n",
        "# Answer 3: By modifiing the CatDataset class:-\n",
        "\n",
        "\n",
        "valid_size = 0.2\n",
        "num_train = len(dset)\n",
        "indices = list(range(num_train))\n",
        "split = int(np.floor(valid_size * num_train))\n",
        "np.random.shuffle(indices)\n",
        "train_indices, valid_indices = indices[split:], indices[:split]\n",
        "\n",
        "class CatDataset_modified(Dataset):\n",
        "    \n",
        "    def __init__(self, indices, data_path = '/content/drive/My Drive/datasets/train_catvnoncat.h5', transform = None):\n",
        "        self.transform = transform\n",
        "        self.data = h5py.File(data_path, 'r')\n",
        "        keys = [key for key in self.data.keys()]\n",
        "        for i in range(len(keys)):\n",
        "            if 'set_x' in keys[i]:\n",
        "                self.images = np.array(self.data[keys[i]][:], dtype=np.uint8).take(indices)\n",
        "            elif 'set_y' in keys[i]:\n",
        "                self.labels = np.array(self.data[keys[i]][:], dtype=np.int).take(indices)\n",
        "                \n",
        "    def __len__(self):\n",
        "        return self.labels.shape[0]\n",
        "    \n",
        "    def __getitem__(self, i):\n",
        "        assert 0<=i<len(self), f'i={i} corresponding to item number {i+1} exceeds size of the dataset that is {self.__len__()}'\n",
        "        image = self.images[i]\n",
        "        label = self.labels[i]\n",
        "        if self.transform:\n",
        "            image = self.transform(image)\n",
        "        else:\n",
        "            image = image.transpose(2, 0, 1)\n",
        "            image = image/255.\n",
        "            image = torch.from_numpy(image)\n",
        "            image = image.to(dtype=torch.float32)\n",
        "        \n",
        "        label = torch.tensor(label, dtype=torch.uint8)\n",
        "        return image, label\n",
        "\n",
        "train_dset = CatDataset_modified(train_indices)\n",
        "valid_dset  = CatDataset_modified(valid_indices)\n",
        "\n",
        "train_loader = DataLoader(train_dset, batch_size=32, shuffle=True, num_workers=4)\n",
        "valid_loader  = DataLoader(valid_dset, batch_size=32, shuffle=True, num_workers=4)\n"
      ],
      "execution_count": 0,
      "outputs": []
    },
    {
      "cell_type": "code",
      "metadata": {
        "id": "Yt64ojGoTsEb",
        "colab_type": "code",
        "colab": {}
      },
      "source": [
        "# Answer 3: By using SubsetSampler method in DataLoader:-\n",
        "\n",
        "valid_size = 0.2\n",
        "num_train = len(dset)\n",
        "indices = list(range(num_train))\n",
        "split = int(np.floor(valid_size * num_train))\n",
        "np.random.shuffle(indices)\n",
        "train_indices, valid_indices = indices[split:], indices[:split]\n",
        "train_sampler = torch.utils.data.SubsetRandomSampler(train_indices)\n",
        "valid_sampler = torch.utils.data.SubsetRandomSampler(valid_indices)\n",
        "\n",
        "train_loader = torch.utils.data.DataLoader(\n",
        "        dset,\n",
        "        batch_size=32,\n",
        "        sampler=train_sampler,\n",
        "        num_workers=4\n",
        "        )\n",
        "\n",
        "valid_loader = torch.utils.data.DataLoader(\n",
        "        dset, \n",
        "        batch_size=32,\n",
        "        sampler=valid_sampler,\n",
        "        num_workers=4\n",
        "        )\n",
        "\n",
        "def train_valid(model, dset, valid_size, loss_criterion=nn.BCELoss(), optimizer=optim.SGD(mymodel.parameters(), lr=0.0015), num_epochs=500, batch_size=32):\n",
        "  for epoch in range(num_epochs): # for each epoch\n",
        "    valid_size = 0.2\n",
        "    num_train = len(dset)\n",
        "    indices = list(range(num_train))\n",
        "    split = int(np.floor(valid_size * num_train))\n",
        "    np.random.shuffle(indices)\n",
        "    train_indices, valid_indices = indices[split:], indices[:split]\n",
        "    train_sampler = torch.utils.data.SubsetRandomSampler(train_indices)\n",
        "    valid_sampler = torch.utils.data.SubsetRandomSampler(valid_indices)\n",
        "    train_loader = torch.utils.data.DataLoader(\n",
        "            dset,\n",
        "            batch_size=32,\n",
        "            sampler=train_sampler,\n",
        "            num_workers=4\n",
        "            )\n",
        "\n",
        "    valid_loader = torch.utils.data.DataLoader(\n",
        "            dset, \n",
        "            batch_size=32,\n",
        "            sampler=valid_sampler,\n",
        "            num_workers=4\n",
        "            )\n",
        "    for images, labels in train_loader: # for each batch of images and labels\n",
        "      if torch.cuda.is_available(): # if gpu available,\n",
        "        images = images.to(device = 'cuda') \n",
        "        labels = labels.to(device = 'cuda') # move batch of images and labels to gpu memory\n",
        "      images = flatten(images) # flatten the batch of images since our model is fully connected\n",
        "      outputs = model(images) # do forward propagation\n",
        "      loss = loss_criterion(outputs.squeeze(), labels.to(dtype = torch.float)) # compute loss\n",
        "      optimizer.zero_grad() # make sure gradients of parameters are zeroed before backpropagation to avoid accumulation\n",
        "      loss.backward() # do the backpropagation\n",
        "      optimizer.step() # update the parameters\n",
        "      \n",
        "    if epoch%100 == 0:\n",
        "      print(f'Training loss at epoch {epoch+1}:\\t{loss.item()}')\n",
        "      print(\"Validation Loss and Accuracy:\")\n",
        "      test(model, test_loader, loss_criterion)\n",
        "  return mymodel    \n"
      ],
      "execution_count": 0,
      "outputs": []
    },
    {
      "cell_type": "code",
      "metadata": {
        "id": "0Mf_OhZOVKUK",
        "colab_type": "code",
        "outputId": "2920df9e-7211-4f11-cef0-6d6c3949d82e",
        "colab": {
          "base_uri": "https://localhost:8080/",
          "height": 374
        }
      },
      "source": [
        "mymodel = MyModel(12288)\n",
        "mymodel.apply(init_params)\n",
        "if torch.cuda.is_available():\n",
        "  mymodel = mymodel.to(device = 'cuda')\n",
        "\n",
        "mymodel = train_valid(model=mymodel, dset=dset, valid_size=0.2)\n",
        "  "
      ],
      "execution_count": 26,
      "outputs": [
        {
          "output_type": "stream",
          "text": [
            "Training loss at epoch 1:\t0.6940304636955261\n",
            "Validation Loss and Accuracy:\n",
            "Loss: \t\t 0.055101776123046876 \n",
            "Accuracy: \t 0.56\n",
            "Training loss at epoch 101:\t0.7121949195861816\n",
            "Validation Loss and Accuracy:\n",
            "Loss: \t\t 0.05531870365142822 \n",
            "Accuracy: \t 0.52\n",
            "Training loss at epoch 201:\t0.6986722946166992\n",
            "Validation Loss and Accuracy:\n",
            "Loss: \t\t 0.054822778701782225 \n",
            "Accuracy: \t 0.6\n",
            "Training loss at epoch 301:\t0.6637008786201477\n",
            "Validation Loss and Accuracy:\n",
            "Loss: \t\t 0.03755764961242676 \n",
            "Accuracy: \t 0.54\n",
            "Training loss at epoch 401:\t0.7136144042015076\n",
            "Validation Loss and Accuracy:\n",
            "Loss: \t\t 0.048306818008422854 \n",
            "Accuracy: \t 0.46\n"
          ],
          "name": "stdout"
        }
      ]
    },
    {
      "cell_type": "code",
      "metadata": {
        "id": "yT8OKK6bL0V_",
        "colab_type": "code",
        "colab": {}
      },
      "source": [
        ""
      ],
      "execution_count": 0,
      "outputs": []
    }
  ]
}